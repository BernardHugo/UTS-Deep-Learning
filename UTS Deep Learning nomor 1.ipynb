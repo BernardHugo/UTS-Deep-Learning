{
 "cells": [
  {
   "cell_type": "markdown",
   "metadata": {
    "id": "3cblfI4H_-tH"
   },
   "source": [
    "Nama: Bernard Hugo\n",
    "\n",
    "NIM: 2540124450\n",
    "\n",
    "Kelas: LA05\n",
    "\n",
    "UTS Deep Learning Nomor 1"
   ]
  },
  {
   "cell_type": "markdown",
   "metadata": {
    "id": "yVeobIpufuOk"
   },
   "source": [
    "Link video:\n",
    "\n",
    "https://binusianorg-my.sharepoint.com/personal/bernard_hugo_binus_ac_id/_layouts/15/guestaccess.aspx?share=EWb_Nb4baqxMjBEHCeHc2Q0B1GyuXsZbyKYNq6QQpkvVdQ&nav=eyJyZWZlcnJhbEluZm8iOnsicmVmZXJyYWxBcHAiOiJPbmVEcml2ZUZvckJ1c2luZXNzIiwicmVmZXJyYWxBcHBQbGF0Zm9ybSI6IldlYiIsInJlZmVycmFsTW9kZSI6InZpZXciLCJyZWZlcnJhbFZpZXciOiJNeUZpbGVzTGlua0RpcmVjdCJ9fQ&e=hiz6av"
   ]
  },
  {
   "cell_type": "markdown",
   "metadata": {
    "id": "F0_sk4a04aP0"
   },
   "source": [
    "**Bagian a**"
   ]
  },
  {
   "cell_type": "code",
   "execution_count": null,
   "metadata": {
    "id": "CMsh54lJLDL1"
   },
   "outputs": [],
   "source": [
    "import pandas as pd\n",
    "import numpy as np\n",
    "import matplotlib.pyplot as plt"
   ]
  },
  {
   "cell_type": "markdown",
   "metadata": {
    "id": "swZ0WvLgZeNw"
   },
   "source": [
    "**Melakukan read pada dataset**"
   ]
  },
  {
   "cell_type": "code",
   "execution_count": null,
   "metadata": {
    "colab": {
     "base_uri": "https://localhost:8080/"
    },
    "id": "H2Vb-ipvI7RE",
    "outputId": "c2e66ac3-78e3-466b-9f9a-234a1b25fa76"
   },
   "outputs": [
    {
     "name": "stdout",
     "output_type": "stream",
     "text": [
      "   Unnamed: 0       Col1       Col2       Col3       Col4        Col5  \\\n",
      "0           0  63.027817  22.552586  39.609117  40.475232   98.672917   \n",
      "1           1  39.056951  10.060991  25.015378  28.995960  114.405425   \n",
      "2           2  68.832021  22.218482  50.092194  46.613539  105.985135   \n",
      "3           3  69.297008  24.652878  44.311238  44.644130  101.868495   \n",
      "4           4  49.712859   9.652075  28.317406  40.060784  108.168725   \n",
      "5           5  40.250200  13.921907  25.124950  26.328293  130.327871   \n",
      "6           6  53.432928  15.864336  37.165934  37.568592  120.567523   \n",
      "7           7  45.366754  10.755611  29.038349  34.611142  117.270067   \n",
      "8           8  43.790190  13.533753  42.690814  30.256437  125.002893   \n",
      "9           9  36.686353   5.010884  41.948751  31.675469   84.241415   \n",
      "\n",
      "        Col6      Col7     Col8     Col9     Col10      Col11    Col12  \\\n",
      "0  -0.254400  0.744503  12.5661  14.5386  15.30468 -28.658501  43.5123   \n",
      "1   4.564259  0.415186  12.8874  17.5323  16.78486 -25.530607  16.1102   \n",
      "2  -3.530317  0.474889  26.8343  17.4861  16.65897 -29.031888  19.2221   \n",
      "3  11.211523  0.369345  23.5603  12.7074  11.42447 -30.470246  18.8329   \n",
      "4   7.918501  0.543360  35.4940  15.9546   8.87237 -16.378376  24.9171   \n",
      "5   2.230652  0.789993  29.3230  12.0036  10.40462  -1.512209   9.6548   \n",
      "6   5.988551  0.198920  13.8514  10.7146  11.37832 -20.510434  25.9477   \n",
      "7 -10.675871  0.131973  28.8165   7.7676   7.60961 -25.111459  26.3543   \n",
      "8  13.289018  0.190408  22.7085  11.4234  10.59188 -20.020075  40.0276   \n",
      "9   0.664437  0.367700  26.2011   8.7380  14.91416  -1.702097  21.4320   \n",
      "\n",
      "  Class_att  \n",
      "0  Abnormal  \n",
      "1  Abnormal  \n",
      "2  Abnormal  \n",
      "3  Abnormal  \n",
      "4  Abnormal  \n",
      "5  Abnormal  \n",
      "6  Abnormal  \n",
      "7  Abnormal  \n",
      "8  Abnormal  \n",
      "9  Abnormal  \n"
     ]
    }
   ],
   "source": [
    "raw_df = pd.read_csv('dataset_spine.csv')\n",
    "print(raw_df.head(10))"
   ]
  },
  {
   "cell_type": "markdown",
   "metadata": {
    "id": "iMNo8ng0xJat"
   },
   "source": [
    "Melakukan read pada \"dataset_spine.csv\", lalu menampilkan 10 data pertama dari dataset tersebut."
   ]
  },
  {
   "cell_type": "markdown",
   "metadata": {
    "id": "TBHsuiBIZXqW"
   },
   "source": [
    "**Mengamati data type**"
   ]
  },
  {
   "cell_type": "code",
   "execution_count": null,
   "metadata": {
    "colab": {
     "base_uri": "https://localhost:8080/"
    },
    "id": "UQHCcyEFxvcz",
    "outputId": "ab4c1f3a-c920-4c49-b94c-ce55bd96ada7"
   },
   "outputs": [
    {
     "name": "stdout",
     "output_type": "stream",
     "text": [
      "Unnamed: 0      int64\n",
      "Col1          float64\n",
      "Col2          float64\n",
      "Col3          float64\n",
      "Col4          float64\n",
      "Col5          float64\n",
      "Col6          float64\n",
      "Col7          float64\n",
      "Col8          float64\n",
      "Col9          float64\n",
      "Col10         float64\n",
      "Col11         float64\n",
      "Col12         float64\n",
      "Class_att      object\n",
      "dtype: object\n"
     ]
    }
   ],
   "source": [
    "print(raw_df.dtypes)"
   ]
  },
  {
   "cell_type": "markdown",
   "metadata": {
    "id": "kri-O4w_2pCL"
   },
   "source": [
    "Mengamati data type setiap kolom atau atribut pada \"dataset_spine.csv\". Sebagai hasilnya, Col 1 sampai Col 12 memiliki data type float dan Class_att memiliki atribut objek atau string"
   ]
  },
  {
   "cell_type": "markdown",
   "metadata": {
    "id": "CwtRhk2XZQTC"
   },
   "source": [
    "**Melakukan perhitungan jumlah data berdasarkan setiap kelas**"
   ]
  },
  {
   "cell_type": "code",
   "execution_count": null,
   "metadata": {
    "colab": {
     "base_uri": "https://localhost:8080/"
    },
    "id": "FfaoUnSoI7RF",
    "outputId": "031ca6eb-6816-438f-c957-3b7bf020f750"
   },
   "outputs": [
    {
     "name": "stdout",
     "output_type": "stream",
     "text": [
      "Abnormal    210\n",
      "Normal      100\n",
      "Name: Class_att, dtype: int64\n"
     ]
    }
   ],
   "source": [
    "class_count = raw_df['Class_att'].value_counts()\n",
    "print(class_count)"
   ]
  },
  {
   "cell_type": "markdown",
   "metadata": {
    "id": "m9xZk-Dhxgim"
   },
   "source": [
    "Menghitung berapa banyak data yang dimiliki oleh setiap kelas pada atribut Class_att. Kelas \"Abnormal\" memiliki sebanyak 210 data dan kelas \"Normal\" memiliki sebanyak 100 data. Kedua kelas memiliki jumlah data yang berbeda, akan dilakukan penyeimbangan pada dataset agar jumlah data yang dimiliki kedua kelas seimbang."
   ]
  },
  {
   "cell_type": "markdown",
   "metadata": {
    "id": "EbPM2pQe0SYr"
   },
   "source": [
    "**Menginstall imbalanced learn**"
   ]
  },
  {
   "cell_type": "code",
   "execution_count": null,
   "metadata": {
    "colab": {
     "base_uri": "https://localhost:8080/"
    },
    "id": "oObvrI3oI7RG",
    "outputId": "de327345-f2b0-4c54-a779-402606391a29"
   },
   "outputs": [
    {
     "name": "stdout",
     "output_type": "stream",
     "text": [
      "Requirement already satisfied: imbalanced-learn in /usr/local/lib/python3.10/dist-packages (0.10.1)\n",
      "Requirement already satisfied: numpy>=1.17.3 in /usr/local/lib/python3.10/dist-packages (from imbalanced-learn) (1.23.5)\n",
      "Requirement already satisfied: scipy>=1.3.2 in /usr/local/lib/python3.10/dist-packages (from imbalanced-learn) (1.11.3)\n",
      "Requirement already satisfied: scikit-learn>=1.0.2 in /usr/local/lib/python3.10/dist-packages (from imbalanced-learn) (1.2.2)\n",
      "Requirement already satisfied: joblib>=1.1.1 in /usr/local/lib/python3.10/dist-packages (from imbalanced-learn) (1.3.2)\n",
      "Requirement already satisfied: threadpoolctl>=2.0.0 in /usr/local/lib/python3.10/dist-packages (from imbalanced-learn) (3.2.0)\n"
     ]
    }
   ],
   "source": [
    "pip install imbalanced-learn"
   ]
  },
  {
   "cell_type": "markdown",
   "metadata": {
    "id": "AmuMqTjY9HA7"
   },
   "source": [
    "Menginstall imbalanced-learn untuk melakukan penyeimbangan sehingga, kedua kelas pada Class_att yaitu Abnormal dan Normal memiliki jumlah data yang sama."
   ]
  },
  {
   "cell_type": "code",
   "execution_count": null,
   "metadata": {
    "colab": {
     "base_uri": "https://localhost:8080/"
    },
    "id": "jO9DsINwI7RH",
    "outputId": "25b9ab95-46fd-4efc-97ba-a4fe7906cebc"
   },
   "outputs": [
    {
     "name": "stdout",
     "output_type": "stream",
     "text": [
      "     Unnamed: 0       Col1       Col2       Col3       Col4        Col5  \\\n",
      "0             0  63.027817  22.552586  39.609117  40.475232   98.672917   \n",
      "1             1  39.056951  10.060991  25.015378  28.995960  114.405425   \n",
      "2             2  68.832021  22.218482  50.092194  46.613539  105.985135   \n",
      "3             3  69.297008  24.652878  44.311238  44.644130  101.868495   \n",
      "4             4  49.712859   9.652075  28.317406  40.060784  108.168725   \n",
      "..          ...        ...        ...        ...        ...         ...   \n",
      "415         275  40.050785   1.538023  33.051429  38.512762  118.814162   \n",
      "416         271  42.709353  14.660648  38.258130  28.048705  121.444224   \n",
      "417         287  71.131165  15.465272  55.179821  55.665893  108.900426   \n",
      "418         281  64.588383  14.687246  43.842935  49.901137  115.784722   \n",
      "419         242  51.215082  14.112434  33.706854  37.102648  125.742568   \n",
      "\n",
      "          Col6      Col7       Col8       Col9      Col10      Col11  \\\n",
      "0    -0.254400  0.744503  12.566100  14.538600  15.304680 -28.658501   \n",
      "1     4.564259  0.415186  12.887400  17.532300  16.784860 -25.530607   \n",
      "2    -3.530317  0.474889  26.834300  17.486100  16.658970 -29.031888   \n",
      "3    11.211523  0.369345  23.560300  12.707400  11.424470 -30.470246   \n",
      "4     7.918501  0.543360  35.494000  15.954600   8.872370 -16.378376   \n",
      "..         ...       ...        ...        ...        ...        ...   \n",
      "415  -3.396639  0.501457  27.862154  14.143787  10.698962 -10.515122   \n",
      "416   6.119014  0.115053  15.596239  16.482125   8.075321 -33.866746   \n",
      "417   1.096851  0.246265  19.575639  15.427280   9.984135 -32.752333   \n",
      "418   5.851458  0.033929  30.990959  15.372189  16.091707  -5.405806   \n",
      "419  11.708733  0.794138  32.737395  11.911602  13.062833 -17.664496   \n",
      "\n",
      "         Col12 Class_att  \n",
      "0    43.512300  Abnormal  \n",
      "1    16.110200  Abnormal  \n",
      "2    19.222100  Abnormal  \n",
      "3    18.832900  Abnormal  \n",
      "4    24.917100  Abnormal  \n",
      "..         ...       ...  \n",
      "415  19.625088    Normal  \n",
      "416  29.500319    Normal  \n",
      "417  16.642191    Normal  \n",
      "418  33.555103    Normal  \n",
      "419  18.986061    Normal  \n",
      "\n",
      "[420 rows x 14 columns]\n",
      "Abnormal    210\n",
      "Normal      210\n",
      "Name: Class_att, dtype: int64\n"
     ]
    }
   ],
   "source": [
    "# Menyeimbangkan jumlah data berdasarkan banyaknya kelas yang ada di Class_att\n",
    "\n",
    "from imblearn.over_sampling import SMOTE\n",
    "\n",
    "x = raw_df.drop('Class_att', axis=1)\n",
    "y = raw_df['Class_att']\n",
    "\n",
    "sampling_strategy = {'Abnormal':210, 'Normal':210}\n",
    "\n",
    "sm = SMOTE(sampling_strategy = sampling_strategy, k_neighbors = len(sampling_strategy) - 1)\n",
    "x_sm, y_sm = sm.fit_resample(x, y)\n",
    "\n",
    "df_balance = pd.concat([x_sm, y_sm], axis=1)\n",
    "print(df_balance)\n",
    "print(df_balance[\"Class_att\"].value_counts())"
   ]
  },
  {
   "cell_type": "markdown",
   "metadata": {
    "id": "GCWGtqXr3LQw"
   },
   "source": [
    "Sebagai hasilnya, kedua kelas (Abnormal dan Normal) memiliki jumlah data yang sama yaitu 210 data. SMOTE merupakan sebuah function yang bergua untuk menangani data yang jumlahnya tidak seimbang. Parameter yang digunakan, adalah sampling_strategy untuk menentukan berapa banyak jumlah data untuk disampling pada setiap kelas. Parameter k_neighbors merupakan neigbors terdekat untuk menentukan lingkungan sampel yang akan digunakan untuk menghasilkan sampel yang bagus. Diisi dengan nilai len(sampling_strategy) berupa 2 dan dikurang dengan 1 menjadi 1. Setelah itu, dilakukan resample atau pencocokan jumlah data yang disimpan ke dalam variabel x dan y yang sudah dilakukan resample. Variabel x dan y digabung untuk menghasilkan sebuah dataframe yang seimbang.\n"
   ]
  },
  {
   "cell_type": "code",
   "execution_count": null,
   "metadata": {
    "colab": {
     "base_uri": "https://localhost:8080/"
    },
    "id": "6wiMwob0I7RH",
    "outputId": "50ed1c04-65b8-4765-e30b-78cbd4e0eaa6"
   },
   "outputs": [
    {
     "name": "stdout",
     "output_type": "stream",
     "text": [
      "Unnamed: 0    0\n",
      "Col1          0\n",
      "Col2          0\n",
      "Col3          0\n",
      "Col4          0\n",
      "Col5          0\n",
      "Col6          0\n",
      "Col7          0\n",
      "Col8          0\n",
      "Col9          0\n",
      "Col10         0\n",
      "Col11         0\n",
      "Col12         0\n",
      "Class_att     0\n",
      "dtype: int64\n"
     ]
    }
   ],
   "source": [
    "# Mengecek data null\n",
    "\n",
    "null_data = df_balance.isnull().sum()\n",
    "print(null_data)"
   ]
  },
  {
   "cell_type": "markdown",
   "metadata": {
    "id": "TB8vOGN6BR9N"
   },
   "source": [
    "Tidak ada data-data yang null pada semua kolom atau atribut."
   ]
  },
  {
   "cell_type": "code",
   "execution_count": null,
   "metadata": {
    "colab": {
     "base_uri": "https://localhost:8080/",
     "height": 423
    },
    "id": "T49WHFWTI7RI",
    "outputId": "8747107e-e126-4971-f15e-c03f71bec50f"
   },
   "outputs": [
    {
     "data": {
      "text/html": [
       "\n",
       "  <div id=\"df-5426391a-107b-42ba-8ec7-e9af5e340ab7\" class=\"colab-df-container\">\n",
       "    <div>\n",
       "<style scoped>\n",
       "    .dataframe tbody tr th:only-of-type {\n",
       "        vertical-align: middle;\n",
       "    }\n",
       "\n",
       "    .dataframe tbody tr th {\n",
       "        vertical-align: top;\n",
       "    }\n",
       "\n",
       "    .dataframe thead th {\n",
       "        text-align: right;\n",
       "    }\n",
       "</style>\n",
       "<table border=\"1\" class=\"dataframe\">\n",
       "  <thead>\n",
       "    <tr style=\"text-align: right;\">\n",
       "      <th></th>\n",
       "      <th>Col1</th>\n",
       "      <th>Col2</th>\n",
       "      <th>Col3</th>\n",
       "      <th>Col4</th>\n",
       "      <th>Col5</th>\n",
       "      <th>Col6</th>\n",
       "      <th>Col7</th>\n",
       "      <th>Col8</th>\n",
       "      <th>Col9</th>\n",
       "      <th>Col10</th>\n",
       "      <th>Col11</th>\n",
       "      <th>Col12</th>\n",
       "      <th>Class_att</th>\n",
       "    </tr>\n",
       "  </thead>\n",
       "  <tbody>\n",
       "    <tr>\n",
       "      <th>0</th>\n",
       "      <td>63.027817</td>\n",
       "      <td>22.552586</td>\n",
       "      <td>39.609117</td>\n",
       "      <td>40.475232</td>\n",
       "      <td>98.672917</td>\n",
       "      <td>-0.254400</td>\n",
       "      <td>0.744503</td>\n",
       "      <td>12.566100</td>\n",
       "      <td>14.538600</td>\n",
       "      <td>15.304680</td>\n",
       "      <td>-28.658501</td>\n",
       "      <td>43.512300</td>\n",
       "      <td>Abnormal</td>\n",
       "    </tr>\n",
       "    <tr>\n",
       "      <th>1</th>\n",
       "      <td>39.056951</td>\n",
       "      <td>10.060991</td>\n",
       "      <td>25.015378</td>\n",
       "      <td>28.995960</td>\n",
       "      <td>114.405425</td>\n",
       "      <td>4.564259</td>\n",
       "      <td>0.415186</td>\n",
       "      <td>12.887400</td>\n",
       "      <td>17.532300</td>\n",
       "      <td>16.784860</td>\n",
       "      <td>-25.530607</td>\n",
       "      <td>16.110200</td>\n",
       "      <td>Abnormal</td>\n",
       "    </tr>\n",
       "    <tr>\n",
       "      <th>2</th>\n",
       "      <td>68.832021</td>\n",
       "      <td>22.218482</td>\n",
       "      <td>50.092194</td>\n",
       "      <td>46.613539</td>\n",
       "      <td>105.985135</td>\n",
       "      <td>-3.530317</td>\n",
       "      <td>0.474889</td>\n",
       "      <td>26.834300</td>\n",
       "      <td>17.486100</td>\n",
       "      <td>16.658970</td>\n",
       "      <td>-29.031888</td>\n",
       "      <td>19.222100</td>\n",
       "      <td>Abnormal</td>\n",
       "    </tr>\n",
       "    <tr>\n",
       "      <th>3</th>\n",
       "      <td>69.297008</td>\n",
       "      <td>24.652878</td>\n",
       "      <td>44.311238</td>\n",
       "      <td>44.644130</td>\n",
       "      <td>101.868495</td>\n",
       "      <td>11.211523</td>\n",
       "      <td>0.369345</td>\n",
       "      <td>23.560300</td>\n",
       "      <td>12.707400</td>\n",
       "      <td>11.424470</td>\n",
       "      <td>-30.470246</td>\n",
       "      <td>18.832900</td>\n",
       "      <td>Abnormal</td>\n",
       "    </tr>\n",
       "    <tr>\n",
       "      <th>4</th>\n",
       "      <td>49.712859</td>\n",
       "      <td>9.652075</td>\n",
       "      <td>28.317406</td>\n",
       "      <td>40.060784</td>\n",
       "      <td>108.168725</td>\n",
       "      <td>7.918501</td>\n",
       "      <td>0.543360</td>\n",
       "      <td>35.494000</td>\n",
       "      <td>15.954600</td>\n",
       "      <td>8.872370</td>\n",
       "      <td>-16.378376</td>\n",
       "      <td>24.917100</td>\n",
       "      <td>Abnormal</td>\n",
       "    </tr>\n",
       "    <tr>\n",
       "      <th>...</th>\n",
       "      <td>...</td>\n",
       "      <td>...</td>\n",
       "      <td>...</td>\n",
       "      <td>...</td>\n",
       "      <td>...</td>\n",
       "      <td>...</td>\n",
       "      <td>...</td>\n",
       "      <td>...</td>\n",
       "      <td>...</td>\n",
       "      <td>...</td>\n",
       "      <td>...</td>\n",
       "      <td>...</td>\n",
       "      <td>...</td>\n",
       "    </tr>\n",
       "    <tr>\n",
       "      <th>415</th>\n",
       "      <td>40.050785</td>\n",
       "      <td>1.538023</td>\n",
       "      <td>33.051429</td>\n",
       "      <td>38.512762</td>\n",
       "      <td>118.814162</td>\n",
       "      <td>-3.396639</td>\n",
       "      <td>0.501457</td>\n",
       "      <td>27.862154</td>\n",
       "      <td>14.143787</td>\n",
       "      <td>10.698962</td>\n",
       "      <td>-10.515122</td>\n",
       "      <td>19.625088</td>\n",
       "      <td>Normal</td>\n",
       "    </tr>\n",
       "    <tr>\n",
       "      <th>416</th>\n",
       "      <td>42.709353</td>\n",
       "      <td>14.660648</td>\n",
       "      <td>38.258130</td>\n",
       "      <td>28.048705</td>\n",
       "      <td>121.444224</td>\n",
       "      <td>6.119014</td>\n",
       "      <td>0.115053</td>\n",
       "      <td>15.596239</td>\n",
       "      <td>16.482125</td>\n",
       "      <td>8.075321</td>\n",
       "      <td>-33.866746</td>\n",
       "      <td>29.500319</td>\n",
       "      <td>Normal</td>\n",
       "    </tr>\n",
       "    <tr>\n",
       "      <th>417</th>\n",
       "      <td>71.131165</td>\n",
       "      <td>15.465272</td>\n",
       "      <td>55.179821</td>\n",
       "      <td>55.665893</td>\n",
       "      <td>108.900426</td>\n",
       "      <td>1.096851</td>\n",
       "      <td>0.246265</td>\n",
       "      <td>19.575639</td>\n",
       "      <td>15.427280</td>\n",
       "      <td>9.984135</td>\n",
       "      <td>-32.752333</td>\n",
       "      <td>16.642191</td>\n",
       "      <td>Normal</td>\n",
       "    </tr>\n",
       "    <tr>\n",
       "      <th>418</th>\n",
       "      <td>64.588383</td>\n",
       "      <td>14.687246</td>\n",
       "      <td>43.842935</td>\n",
       "      <td>49.901137</td>\n",
       "      <td>115.784722</td>\n",
       "      <td>5.851458</td>\n",
       "      <td>0.033929</td>\n",
       "      <td>30.990959</td>\n",
       "      <td>15.372189</td>\n",
       "      <td>16.091707</td>\n",
       "      <td>-5.405806</td>\n",
       "      <td>33.555103</td>\n",
       "      <td>Normal</td>\n",
       "    </tr>\n",
       "    <tr>\n",
       "      <th>419</th>\n",
       "      <td>51.215082</td>\n",
       "      <td>14.112434</td>\n",
       "      <td>33.706854</td>\n",
       "      <td>37.102648</td>\n",
       "      <td>125.742568</td>\n",
       "      <td>11.708733</td>\n",
       "      <td>0.794138</td>\n",
       "      <td>32.737395</td>\n",
       "      <td>11.911602</td>\n",
       "      <td>13.062833</td>\n",
       "      <td>-17.664496</td>\n",
       "      <td>18.986061</td>\n",
       "      <td>Normal</td>\n",
       "    </tr>\n",
       "  </tbody>\n",
       "</table>\n",
       "<p>420 rows × 13 columns</p>\n",
       "</div>\n",
       "    <div class=\"colab-df-buttons\">\n",
       "\n",
       "  <div class=\"colab-df-container\">\n",
       "    <button class=\"colab-df-convert\" onclick=\"convertToInteractive('df-5426391a-107b-42ba-8ec7-e9af5e340ab7')\"\n",
       "            title=\"Convert this dataframe to an interactive table.\"\n",
       "            style=\"display:none;\">\n",
       "\n",
       "  <svg xmlns=\"http://www.w3.org/2000/svg\" height=\"24px\" viewBox=\"0 -960 960 960\">\n",
       "    <path d=\"M120-120v-720h720v720H120Zm60-500h600v-160H180v160Zm220 220h160v-160H400v160Zm0 220h160v-160H400v160ZM180-400h160v-160H180v160Zm440 0h160v-160H620v160ZM180-180h160v-160H180v160Zm440 0h160v-160H620v160Z\"/>\n",
       "  </svg>\n",
       "    </button>\n",
       "\n",
       "  <style>\n",
       "    .colab-df-container {\n",
       "      display:flex;\n",
       "      gap: 12px;\n",
       "    }\n",
       "\n",
       "    .colab-df-convert {\n",
       "      background-color: #E8F0FE;\n",
       "      border: none;\n",
       "      border-radius: 50%;\n",
       "      cursor: pointer;\n",
       "      display: none;\n",
       "      fill: #1967D2;\n",
       "      height: 32px;\n",
       "      padding: 0 0 0 0;\n",
       "      width: 32px;\n",
       "    }\n",
       "\n",
       "    .colab-df-convert:hover {\n",
       "      background-color: #E2EBFA;\n",
       "      box-shadow: 0px 1px 2px rgba(60, 64, 67, 0.3), 0px 1px 3px 1px rgba(60, 64, 67, 0.15);\n",
       "      fill: #174EA6;\n",
       "    }\n",
       "\n",
       "    .colab-df-buttons div {\n",
       "      margin-bottom: 4px;\n",
       "    }\n",
       "\n",
       "    [theme=dark] .colab-df-convert {\n",
       "      background-color: #3B4455;\n",
       "      fill: #D2E3FC;\n",
       "    }\n",
       "\n",
       "    [theme=dark] .colab-df-convert:hover {\n",
       "      background-color: #434B5C;\n",
       "      box-shadow: 0px 1px 3px 1px rgba(0, 0, 0, 0.15);\n",
       "      filter: drop-shadow(0px 1px 2px rgba(0, 0, 0, 0.3));\n",
       "      fill: #FFFFFF;\n",
       "    }\n",
       "  </style>\n",
       "\n",
       "    <script>\n",
       "      const buttonEl =\n",
       "        document.querySelector('#df-5426391a-107b-42ba-8ec7-e9af5e340ab7 button.colab-df-convert');\n",
       "      buttonEl.style.display =\n",
       "        google.colab.kernel.accessAllowed ? 'block' : 'none';\n",
       "\n",
       "      async function convertToInteractive(key) {\n",
       "        const element = document.querySelector('#df-5426391a-107b-42ba-8ec7-e9af5e340ab7');\n",
       "        const dataTable =\n",
       "          await google.colab.kernel.invokeFunction('convertToInteractive',\n",
       "                                                    [key], {});\n",
       "        if (!dataTable) return;\n",
       "\n",
       "        const docLinkHtml = 'Like what you see? Visit the ' +\n",
       "          '<a target=\"_blank\" href=https://colab.research.google.com/notebooks/data_table.ipynb>data table notebook</a>'\n",
       "          + ' to learn more about interactive tables.';\n",
       "        element.innerHTML = '';\n",
       "        dataTable['output_type'] = 'display_data';\n",
       "        await google.colab.output.renderOutput(dataTable, element);\n",
       "        const docLink = document.createElement('div');\n",
       "        docLink.innerHTML = docLinkHtml;\n",
       "        element.appendChild(docLink);\n",
       "      }\n",
       "    </script>\n",
       "  </div>\n",
       "\n",
       "\n",
       "<div id=\"df-2fe7fe98-1532-47de-96da-b5058c5e6902\">\n",
       "  <button class=\"colab-df-quickchart\" onclick=\"quickchart('df-2fe7fe98-1532-47de-96da-b5058c5e6902')\"\n",
       "            title=\"Suggest charts\"\n",
       "            style=\"display:none;\">\n",
       "\n",
       "<svg xmlns=\"http://www.w3.org/2000/svg\" height=\"24px\"viewBox=\"0 0 24 24\"\n",
       "     width=\"24px\">\n",
       "    <g>\n",
       "        <path d=\"M19 3H5c-1.1 0-2 .9-2 2v14c0 1.1.9 2 2 2h14c1.1 0 2-.9 2-2V5c0-1.1-.9-2-2-2zM9 17H7v-7h2v7zm4 0h-2V7h2v10zm4 0h-2v-4h2v4z\"/>\n",
       "    </g>\n",
       "</svg>\n",
       "  </button>\n",
       "\n",
       "<style>\n",
       "  .colab-df-quickchart {\n",
       "      --bg-color: #E8F0FE;\n",
       "      --fill-color: #1967D2;\n",
       "      --hover-bg-color: #E2EBFA;\n",
       "      --hover-fill-color: #174EA6;\n",
       "      --disabled-fill-color: #AAA;\n",
       "      --disabled-bg-color: #DDD;\n",
       "  }\n",
       "\n",
       "  [theme=dark] .colab-df-quickchart {\n",
       "      --bg-color: #3B4455;\n",
       "      --fill-color: #D2E3FC;\n",
       "      --hover-bg-color: #434B5C;\n",
       "      --hover-fill-color: #FFFFFF;\n",
       "      --disabled-bg-color: #3B4455;\n",
       "      --disabled-fill-color: #666;\n",
       "  }\n",
       "\n",
       "  .colab-df-quickchart {\n",
       "    background-color: var(--bg-color);\n",
       "    border: none;\n",
       "    border-radius: 50%;\n",
       "    cursor: pointer;\n",
       "    display: none;\n",
       "    fill: var(--fill-color);\n",
       "    height: 32px;\n",
       "    padding: 0;\n",
       "    width: 32px;\n",
       "  }\n",
       "\n",
       "  .colab-df-quickchart:hover {\n",
       "    background-color: var(--hover-bg-color);\n",
       "    box-shadow: 0 1px 2px rgba(60, 64, 67, 0.3), 0 1px 3px 1px rgba(60, 64, 67, 0.15);\n",
       "    fill: var(--button-hover-fill-color);\n",
       "  }\n",
       "\n",
       "  .colab-df-quickchart-complete:disabled,\n",
       "  .colab-df-quickchart-complete:disabled:hover {\n",
       "    background-color: var(--disabled-bg-color);\n",
       "    fill: var(--disabled-fill-color);\n",
       "    box-shadow: none;\n",
       "  }\n",
       "\n",
       "  .colab-df-spinner {\n",
       "    border: 2px solid var(--fill-color);\n",
       "    border-color: transparent;\n",
       "    border-bottom-color: var(--fill-color);\n",
       "    animation:\n",
       "      spin 1s steps(1) infinite;\n",
       "  }\n",
       "\n",
       "  @keyframes spin {\n",
       "    0% {\n",
       "      border-color: transparent;\n",
       "      border-bottom-color: var(--fill-color);\n",
       "      border-left-color: var(--fill-color);\n",
       "    }\n",
       "    20% {\n",
       "      border-color: transparent;\n",
       "      border-left-color: var(--fill-color);\n",
       "      border-top-color: var(--fill-color);\n",
       "    }\n",
       "    30% {\n",
       "      border-color: transparent;\n",
       "      border-left-color: var(--fill-color);\n",
       "      border-top-color: var(--fill-color);\n",
       "      border-right-color: var(--fill-color);\n",
       "    }\n",
       "    40% {\n",
       "      border-color: transparent;\n",
       "      border-right-color: var(--fill-color);\n",
       "      border-top-color: var(--fill-color);\n",
       "    }\n",
       "    60% {\n",
       "      border-color: transparent;\n",
       "      border-right-color: var(--fill-color);\n",
       "    }\n",
       "    80% {\n",
       "      border-color: transparent;\n",
       "      border-right-color: var(--fill-color);\n",
       "      border-bottom-color: var(--fill-color);\n",
       "    }\n",
       "    90% {\n",
       "      border-color: transparent;\n",
       "      border-bottom-color: var(--fill-color);\n",
       "    }\n",
       "  }\n",
       "</style>\n",
       "\n",
       "  <script>\n",
       "    async function quickchart(key) {\n",
       "      const quickchartButtonEl =\n",
       "        document.querySelector('#' + key + ' button');\n",
       "      quickchartButtonEl.disabled = true;  // To prevent multiple clicks.\n",
       "      quickchartButtonEl.classList.add('colab-df-spinner');\n",
       "      try {\n",
       "        const charts = await google.colab.kernel.invokeFunction(\n",
       "            'suggestCharts', [key], {});\n",
       "      } catch (error) {\n",
       "        console.error('Error during call to suggestCharts:', error);\n",
       "      }\n",
       "      quickchartButtonEl.classList.remove('colab-df-spinner');\n",
       "      quickchartButtonEl.classList.add('colab-df-quickchart-complete');\n",
       "    }\n",
       "    (() => {\n",
       "      let quickchartButtonEl =\n",
       "        document.querySelector('#df-2fe7fe98-1532-47de-96da-b5058c5e6902 button');\n",
       "      quickchartButtonEl.style.display =\n",
       "        google.colab.kernel.accessAllowed ? 'block' : 'none';\n",
       "    })();\n",
       "  </script>\n",
       "</div>\n",
       "    </div>\n",
       "  </div>\n"
      ],
      "text/plain": [
       "          Col1       Col2       Col3       Col4        Col5       Col6  \\\n",
       "0    63.027817  22.552586  39.609117  40.475232   98.672917  -0.254400   \n",
       "1    39.056951  10.060991  25.015378  28.995960  114.405425   4.564259   \n",
       "2    68.832021  22.218482  50.092194  46.613539  105.985135  -3.530317   \n",
       "3    69.297008  24.652878  44.311238  44.644130  101.868495  11.211523   \n",
       "4    49.712859   9.652075  28.317406  40.060784  108.168725   7.918501   \n",
       "..         ...        ...        ...        ...         ...        ...   \n",
       "415  40.050785   1.538023  33.051429  38.512762  118.814162  -3.396639   \n",
       "416  42.709353  14.660648  38.258130  28.048705  121.444224   6.119014   \n",
       "417  71.131165  15.465272  55.179821  55.665893  108.900426   1.096851   \n",
       "418  64.588383  14.687246  43.842935  49.901137  115.784722   5.851458   \n",
       "419  51.215082  14.112434  33.706854  37.102648  125.742568  11.708733   \n",
       "\n",
       "         Col7       Col8       Col9      Col10      Col11      Col12 Class_att  \n",
       "0    0.744503  12.566100  14.538600  15.304680 -28.658501  43.512300  Abnormal  \n",
       "1    0.415186  12.887400  17.532300  16.784860 -25.530607  16.110200  Abnormal  \n",
       "2    0.474889  26.834300  17.486100  16.658970 -29.031888  19.222100  Abnormal  \n",
       "3    0.369345  23.560300  12.707400  11.424470 -30.470246  18.832900  Abnormal  \n",
       "4    0.543360  35.494000  15.954600   8.872370 -16.378376  24.917100  Abnormal  \n",
       "..        ...        ...        ...        ...        ...        ...       ...  \n",
       "415  0.501457  27.862154  14.143787  10.698962 -10.515122  19.625088    Normal  \n",
       "416  0.115053  15.596239  16.482125   8.075321 -33.866746  29.500319    Normal  \n",
       "417  0.246265  19.575639  15.427280   9.984135 -32.752333  16.642191    Normal  \n",
       "418  0.033929  30.990959  15.372189  16.091707  -5.405806  33.555103    Normal  \n",
       "419  0.794138  32.737395  11.911602  13.062833 -17.664496  18.986061    Normal  \n",
       "\n",
       "[420 rows x 13 columns]"
      ]
     },
     "execution_count": 21,
     "metadata": {},
     "output_type": "execute_result"
    }
   ],
   "source": [
    "# Membuang kolom yang tidak penting\n",
    "\n",
    "df_balance = df_balance.drop([\"Unnamed: 0\"], axis = 1)\n",
    "df_balance"
   ]
  },
  {
   "cell_type": "markdown",
   "metadata": {
    "id": "k6x8kdVUBb33"
   },
   "source": [
    "Kolom Unnamed:0 tidak penting, karena kolom tersebut hanya berperan sebagai nomor ID."
   ]
  },
  {
   "cell_type": "code",
   "execution_count": null,
   "metadata": {
    "colab": {
     "base_uri": "https://localhost:8080/",
     "height": 300
    },
    "id": "ph9IrQpnI7RI",
    "outputId": "95a8c555-6a17-468e-bf17-88ea29b7af71"
   },
   "outputs": [
    {
     "data": {
      "text/html": [
       "\n",
       "  <div id=\"df-652b7fca-6908-40f0-bcbe-be1519e8994c\" class=\"colab-df-container\">\n",
       "    <div>\n",
       "<style scoped>\n",
       "    .dataframe tbody tr th:only-of-type {\n",
       "        vertical-align: middle;\n",
       "    }\n",
       "\n",
       "    .dataframe tbody tr th {\n",
       "        vertical-align: top;\n",
       "    }\n",
       "\n",
       "    .dataframe thead th {\n",
       "        text-align: right;\n",
       "    }\n",
       "</style>\n",
       "<table border=\"1\" class=\"dataframe\">\n",
       "  <thead>\n",
       "    <tr style=\"text-align: right;\">\n",
       "      <th></th>\n",
       "      <th>Col1</th>\n",
       "      <th>Col2</th>\n",
       "      <th>Col3</th>\n",
       "      <th>Col4</th>\n",
       "      <th>Col5</th>\n",
       "      <th>Col6</th>\n",
       "      <th>Col7</th>\n",
       "      <th>Col8</th>\n",
       "      <th>Col9</th>\n",
       "      <th>Col10</th>\n",
       "      <th>Col11</th>\n",
       "      <th>Col12</th>\n",
       "    </tr>\n",
       "  </thead>\n",
       "  <tbody>\n",
       "    <tr>\n",
       "      <th>count</th>\n",
       "      <td>420.000000</td>\n",
       "      <td>420.000000</td>\n",
       "      <td>420.000000</td>\n",
       "      <td>420.000000</td>\n",
       "      <td>420.000000</td>\n",
       "      <td>420.000000</td>\n",
       "      <td>420.000000</td>\n",
       "      <td>420.000000</td>\n",
       "      <td>420.000000</td>\n",
       "      <td>420.000000</td>\n",
       "      <td>420.000000</td>\n",
       "      <td>420.000000</td>\n",
       "    </tr>\n",
       "    <tr>\n",
       "      <th>mean</th>\n",
       "      <td>58.140093</td>\n",
       "      <td>16.200116</td>\n",
       "      <td>49.810715</td>\n",
       "      <td>41.939977</td>\n",
       "      <td>119.437105</td>\n",
       "      <td>19.967076</td>\n",
       "      <td>0.455735</td>\n",
       "      <td>21.384661</td>\n",
       "      <td>13.125042</td>\n",
       "      <td>11.776713</td>\n",
       "      <td>-14.747206</td>\n",
       "      <td>25.947195</td>\n",
       "    </tr>\n",
       "    <tr>\n",
       "      <th>std</th>\n",
       "      <td>16.213361</td>\n",
       "      <td>9.444280</td>\n",
       "      <td>17.184738</td>\n",
       "      <td>12.320055</td>\n",
       "      <td>12.298477</td>\n",
       "      <td>34.034444</td>\n",
       "      <td>0.271565</td>\n",
       "      <td>8.690225</td>\n",
       "      <td>3.198163</td>\n",
       "      <td>2.760486</td>\n",
       "      <td>12.359440</td>\n",
       "      <td>10.422351</td>\n",
       "    </tr>\n",
       "    <tr>\n",
       "      <th>min</th>\n",
       "      <td>26.147921</td>\n",
       "      <td>-6.554948</td>\n",
       "      <td>14.000000</td>\n",
       "      <td>13.366931</td>\n",
       "      <td>70.082575</td>\n",
       "      <td>-11.058179</td>\n",
       "      <td>0.003220</td>\n",
       "      <td>7.027000</td>\n",
       "      <td>7.037800</td>\n",
       "      <td>7.030600</td>\n",
       "      <td>-35.287375</td>\n",
       "      <td>7.007900</td>\n",
       "    </tr>\n",
       "    <tr>\n",
       "      <th>25%</th>\n",
       "      <td>45.031512</td>\n",
       "      <td>9.971614</td>\n",
       "      <td>36.666451</td>\n",
       "      <td>33.161719</td>\n",
       "      <td>113.799257</td>\n",
       "      <td>0.526542</td>\n",
       "      <td>0.232461</td>\n",
       "      <td>13.169764</td>\n",
       "      <td>10.757075</td>\n",
       "      <td>9.362780</td>\n",
       "      <td>-25.523815</td>\n",
       "      <td>17.152300</td>\n",
       "    </tr>\n",
       "    <tr>\n",
       "      <th>50%</th>\n",
       "      <td>55.703066</td>\n",
       "      <td>15.006480</td>\n",
       "      <td>46.983449</td>\n",
       "      <td>40.886988</td>\n",
       "      <td>120.079446</td>\n",
       "      <td>5.394223</td>\n",
       "      <td>0.455035</td>\n",
       "      <td>21.907150</td>\n",
       "      <td>13.148986</td>\n",
       "      <td>11.780216</td>\n",
       "      <td>-15.819455</td>\n",
       "      <td>24.955783</td>\n",
       "    </tr>\n",
       "    <tr>\n",
       "      <th>75%</th>\n",
       "      <td>68.640228</td>\n",
       "      <td>20.445296</td>\n",
       "      <td>60.097139</td>\n",
       "      <td>49.798016</td>\n",
       "      <td>126.476302</td>\n",
       "      <td>31.865506</td>\n",
       "      <td>0.673053</td>\n",
       "      <td>29.160750</td>\n",
       "      <td>15.627676</td>\n",
       "      <td>13.886919</td>\n",
       "      <td>-3.875393</td>\n",
       "      <td>34.701957</td>\n",
       "    </tr>\n",
       "    <tr>\n",
       "      <th>max</th>\n",
       "      <td>129.834041</td>\n",
       "      <td>49.431864</td>\n",
       "      <td>125.742385</td>\n",
       "      <td>121.429566</td>\n",
       "      <td>163.071041</td>\n",
       "      <td>418.543082</td>\n",
       "      <td>0.998827</td>\n",
       "      <td>36.743900</td>\n",
       "      <td>19.324000</td>\n",
       "      <td>16.821080</td>\n",
       "      <td>6.972071</td>\n",
       "      <td>44.341200</td>\n",
       "    </tr>\n",
       "  </tbody>\n",
       "</table>\n",
       "</div>\n",
       "    <div class=\"colab-df-buttons\">\n",
       "\n",
       "  <div class=\"colab-df-container\">\n",
       "    <button class=\"colab-df-convert\" onclick=\"convertToInteractive('df-652b7fca-6908-40f0-bcbe-be1519e8994c')\"\n",
       "            title=\"Convert this dataframe to an interactive table.\"\n",
       "            style=\"display:none;\">\n",
       "\n",
       "  <svg xmlns=\"http://www.w3.org/2000/svg\" height=\"24px\" viewBox=\"0 -960 960 960\">\n",
       "    <path d=\"M120-120v-720h720v720H120Zm60-500h600v-160H180v160Zm220 220h160v-160H400v160Zm0 220h160v-160H400v160ZM180-400h160v-160H180v160Zm440 0h160v-160H620v160ZM180-180h160v-160H180v160Zm440 0h160v-160H620v160Z\"/>\n",
       "  </svg>\n",
       "    </button>\n",
       "\n",
       "  <style>\n",
       "    .colab-df-container {\n",
       "      display:flex;\n",
       "      gap: 12px;\n",
       "    }\n",
       "\n",
       "    .colab-df-convert {\n",
       "      background-color: #E8F0FE;\n",
       "      border: none;\n",
       "      border-radius: 50%;\n",
       "      cursor: pointer;\n",
       "      display: none;\n",
       "      fill: #1967D2;\n",
       "      height: 32px;\n",
       "      padding: 0 0 0 0;\n",
       "      width: 32px;\n",
       "    }\n",
       "\n",
       "    .colab-df-convert:hover {\n",
       "      background-color: #E2EBFA;\n",
       "      box-shadow: 0px 1px 2px rgba(60, 64, 67, 0.3), 0px 1px 3px 1px rgba(60, 64, 67, 0.15);\n",
       "      fill: #174EA6;\n",
       "    }\n",
       "\n",
       "    .colab-df-buttons div {\n",
       "      margin-bottom: 4px;\n",
       "    }\n",
       "\n",
       "    [theme=dark] .colab-df-convert {\n",
       "      background-color: #3B4455;\n",
       "      fill: #D2E3FC;\n",
       "    }\n",
       "\n",
       "    [theme=dark] .colab-df-convert:hover {\n",
       "      background-color: #434B5C;\n",
       "      box-shadow: 0px 1px 3px 1px rgba(0, 0, 0, 0.15);\n",
       "      filter: drop-shadow(0px 1px 2px rgba(0, 0, 0, 0.3));\n",
       "      fill: #FFFFFF;\n",
       "    }\n",
       "  </style>\n",
       "\n",
       "    <script>\n",
       "      const buttonEl =\n",
       "        document.querySelector('#df-652b7fca-6908-40f0-bcbe-be1519e8994c button.colab-df-convert');\n",
       "      buttonEl.style.display =\n",
       "        google.colab.kernel.accessAllowed ? 'block' : 'none';\n",
       "\n",
       "      async function convertToInteractive(key) {\n",
       "        const element = document.querySelector('#df-652b7fca-6908-40f0-bcbe-be1519e8994c');\n",
       "        const dataTable =\n",
       "          await google.colab.kernel.invokeFunction('convertToInteractive',\n",
       "                                                    [key], {});\n",
       "        if (!dataTable) return;\n",
       "\n",
       "        const docLinkHtml = 'Like what you see? Visit the ' +\n",
       "          '<a target=\"_blank\" href=https://colab.research.google.com/notebooks/data_table.ipynb>data table notebook</a>'\n",
       "          + ' to learn more about interactive tables.';\n",
       "        element.innerHTML = '';\n",
       "        dataTable['output_type'] = 'display_data';\n",
       "        await google.colab.output.renderOutput(dataTable, element);\n",
       "        const docLink = document.createElement('div');\n",
       "        docLink.innerHTML = docLinkHtml;\n",
       "        element.appendChild(docLink);\n",
       "      }\n",
       "    </script>\n",
       "  </div>\n",
       "\n",
       "\n",
       "<div id=\"df-0f800560-6f73-4445-8939-36e6373562e2\">\n",
       "  <button class=\"colab-df-quickchart\" onclick=\"quickchart('df-0f800560-6f73-4445-8939-36e6373562e2')\"\n",
       "            title=\"Suggest charts\"\n",
       "            style=\"display:none;\">\n",
       "\n",
       "<svg xmlns=\"http://www.w3.org/2000/svg\" height=\"24px\"viewBox=\"0 0 24 24\"\n",
       "     width=\"24px\">\n",
       "    <g>\n",
       "        <path d=\"M19 3H5c-1.1 0-2 .9-2 2v14c0 1.1.9 2 2 2h14c1.1 0 2-.9 2-2V5c0-1.1-.9-2-2-2zM9 17H7v-7h2v7zm4 0h-2V7h2v10zm4 0h-2v-4h2v4z\"/>\n",
       "    </g>\n",
       "</svg>\n",
       "  </button>\n",
       "\n",
       "<style>\n",
       "  .colab-df-quickchart {\n",
       "      --bg-color: #E8F0FE;\n",
       "      --fill-color: #1967D2;\n",
       "      --hover-bg-color: #E2EBFA;\n",
       "      --hover-fill-color: #174EA6;\n",
       "      --disabled-fill-color: #AAA;\n",
       "      --disabled-bg-color: #DDD;\n",
       "  }\n",
       "\n",
       "  [theme=dark] .colab-df-quickchart {\n",
       "      --bg-color: #3B4455;\n",
       "      --fill-color: #D2E3FC;\n",
       "      --hover-bg-color: #434B5C;\n",
       "      --hover-fill-color: #FFFFFF;\n",
       "      --disabled-bg-color: #3B4455;\n",
       "      --disabled-fill-color: #666;\n",
       "  }\n",
       "\n",
       "  .colab-df-quickchart {\n",
       "    background-color: var(--bg-color);\n",
       "    border: none;\n",
       "    border-radius: 50%;\n",
       "    cursor: pointer;\n",
       "    display: none;\n",
       "    fill: var(--fill-color);\n",
       "    height: 32px;\n",
       "    padding: 0;\n",
       "    width: 32px;\n",
       "  }\n",
       "\n",
       "  .colab-df-quickchart:hover {\n",
       "    background-color: var(--hover-bg-color);\n",
       "    box-shadow: 0 1px 2px rgba(60, 64, 67, 0.3), 0 1px 3px 1px rgba(60, 64, 67, 0.15);\n",
       "    fill: var(--button-hover-fill-color);\n",
       "  }\n",
       "\n",
       "  .colab-df-quickchart-complete:disabled,\n",
       "  .colab-df-quickchart-complete:disabled:hover {\n",
       "    background-color: var(--disabled-bg-color);\n",
       "    fill: var(--disabled-fill-color);\n",
       "    box-shadow: none;\n",
       "  }\n",
       "\n",
       "  .colab-df-spinner {\n",
       "    border: 2px solid var(--fill-color);\n",
       "    border-color: transparent;\n",
       "    border-bottom-color: var(--fill-color);\n",
       "    animation:\n",
       "      spin 1s steps(1) infinite;\n",
       "  }\n",
       "\n",
       "  @keyframes spin {\n",
       "    0% {\n",
       "      border-color: transparent;\n",
       "      border-bottom-color: var(--fill-color);\n",
       "      border-left-color: var(--fill-color);\n",
       "    }\n",
       "    20% {\n",
       "      border-color: transparent;\n",
       "      border-left-color: var(--fill-color);\n",
       "      border-top-color: var(--fill-color);\n",
       "    }\n",
       "    30% {\n",
       "      border-color: transparent;\n",
       "      border-left-color: var(--fill-color);\n",
       "      border-top-color: var(--fill-color);\n",
       "      border-right-color: var(--fill-color);\n",
       "    }\n",
       "    40% {\n",
       "      border-color: transparent;\n",
       "      border-right-color: var(--fill-color);\n",
       "      border-top-color: var(--fill-color);\n",
       "    }\n",
       "    60% {\n",
       "      border-color: transparent;\n",
       "      border-right-color: var(--fill-color);\n",
       "    }\n",
       "    80% {\n",
       "      border-color: transparent;\n",
       "      border-right-color: var(--fill-color);\n",
       "      border-bottom-color: var(--fill-color);\n",
       "    }\n",
       "    90% {\n",
       "      border-color: transparent;\n",
       "      border-bottom-color: var(--fill-color);\n",
       "    }\n",
       "  }\n",
       "</style>\n",
       "\n",
       "  <script>\n",
       "    async function quickchart(key) {\n",
       "      const quickchartButtonEl =\n",
       "        document.querySelector('#' + key + ' button');\n",
       "      quickchartButtonEl.disabled = true;  // To prevent multiple clicks.\n",
       "      quickchartButtonEl.classList.add('colab-df-spinner');\n",
       "      try {\n",
       "        const charts = await google.colab.kernel.invokeFunction(\n",
       "            'suggestCharts', [key], {});\n",
       "      } catch (error) {\n",
       "        console.error('Error during call to suggestCharts:', error);\n",
       "      }\n",
       "      quickchartButtonEl.classList.remove('colab-df-spinner');\n",
       "      quickchartButtonEl.classList.add('colab-df-quickchart-complete');\n",
       "    }\n",
       "    (() => {\n",
       "      let quickchartButtonEl =\n",
       "        document.querySelector('#df-0f800560-6f73-4445-8939-36e6373562e2 button');\n",
       "      quickchartButtonEl.style.display =\n",
       "        google.colab.kernel.accessAllowed ? 'block' : 'none';\n",
       "    })();\n",
       "  </script>\n",
       "</div>\n",
       "    </div>\n",
       "  </div>\n"
      ],
      "text/plain": [
       "             Col1        Col2        Col3        Col4        Col5        Col6  \\\n",
       "count  420.000000  420.000000  420.000000  420.000000  420.000000  420.000000   \n",
       "mean    58.140093   16.200116   49.810715   41.939977  119.437105   19.967076   \n",
       "std     16.213361    9.444280   17.184738   12.320055   12.298477   34.034444   \n",
       "min     26.147921   -6.554948   14.000000   13.366931   70.082575  -11.058179   \n",
       "25%     45.031512    9.971614   36.666451   33.161719  113.799257    0.526542   \n",
       "50%     55.703066   15.006480   46.983449   40.886988  120.079446    5.394223   \n",
       "75%     68.640228   20.445296   60.097139   49.798016  126.476302   31.865506   \n",
       "max    129.834041   49.431864  125.742385  121.429566  163.071041  418.543082   \n",
       "\n",
       "             Col7        Col8        Col9       Col10       Col11       Col12  \n",
       "count  420.000000  420.000000  420.000000  420.000000  420.000000  420.000000  \n",
       "mean     0.455735   21.384661   13.125042   11.776713  -14.747206   25.947195  \n",
       "std      0.271565    8.690225    3.198163    2.760486   12.359440   10.422351  \n",
       "min      0.003220    7.027000    7.037800    7.030600  -35.287375    7.007900  \n",
       "25%      0.232461   13.169764   10.757075    9.362780  -25.523815   17.152300  \n",
       "50%      0.455035   21.907150   13.148986   11.780216  -15.819455   24.955783  \n",
       "75%      0.673053   29.160750   15.627676   13.886919   -3.875393   34.701957  \n",
       "max      0.998827   36.743900   19.324000   16.821080    6.972071   44.341200  "
      ]
     },
     "execution_count": 22,
     "metadata": {},
     "output_type": "execute_result"
    }
   ],
   "source": [
    "df_balance.describe()"
   ]
  },
  {
   "cell_type": "markdown",
   "metadata": {
    "id": "J_FKG5t2DFzI"
   },
   "source": [
    "Melakukan perhitungan deskriptif statistik pada dataframe. Untuk melihat nilai count, mean (rata-rata), standar deviasi, nilai minimum, 25%, 50%, 75%, dan nilai maksimum."
   ]
  },
  {
   "cell_type": "code",
   "execution_count": null,
   "metadata": {
    "colab": {
     "base_uri": "https://localhost:8080/"
    },
    "id": "iczOcFF_I7RJ",
    "outputId": "610163a6-45c5-40b1-aff4-7e35440f2b90"
   },
   "outputs": [
    {
     "name": "stdout",
     "output_type": "stream",
     "text": [
      "          Col1       Col2       Col3       Col4        Col5        Col6  \\\n",
      "0    63.027817  22.552586  39.609117  40.475232   98.672917   -0.254400   \n",
      "1    39.056951  10.060991  25.015378  28.995960  114.405425    4.564259   \n",
      "2    68.832021  22.218482  50.092194  46.613539  105.985135   -3.530317   \n",
      "3    69.297008  24.652878  44.311238  44.644130  101.868495   11.211523   \n",
      "4    49.712859   9.652075  28.317406  40.060784  108.168725    7.918501   \n",
      "..         ...        ...        ...        ...         ...         ...   \n",
      "205  80.111572  33.942432  85.101608  46.169139  125.593624  100.292107   \n",
      "206  95.480229  46.550053  59.000000  48.930176   96.683903   77.283072   \n",
      "207  74.094731  18.823727  76.032156  55.271004  128.405731   73.388216   \n",
      "208  87.679087  20.365613  93.822416  67.313473  120.944829   76.730629   \n",
      "209  48.259920  16.417462  36.329137  31.842457   94.882336   28.343799   \n",
      "\n",
      "         Col7     Col8     Col9     Col10      Col11    Col12 Class_att  \n",
      "0    0.744503  12.5661  14.5386  15.30468 -28.658501  43.5123  Abnormal  \n",
      "1    0.415186  12.8874  17.5323  16.78486 -25.530607  16.1102  Abnormal  \n",
      "2    0.474889  26.8343  17.4861  16.65897 -29.031888  19.2221  Abnormal  \n",
      "3    0.369345  23.5603  12.7074  11.42447 -30.470246  18.8329  Abnormal  \n",
      "4    0.543360  35.4940  15.9546   8.87237 -16.378376  24.9171  Abnormal  \n",
      "..        ...      ...      ...       ...        ...      ...       ...  \n",
      "205  0.088561  11.6503  16.1451   9.69950   4.446480  36.0749  Abnormal  \n",
      "206  0.778848  29.8380  14.5939  12.22450 -21.695815  38.7849  Abnormal  \n",
      "207  0.910886  13.1813  10.1368   8.49572  -0.337130  11.6844  Abnormal  \n",
      "208  0.574775  23.8665  13.0473   9.41012   5.212541  28.6308  Abnormal  \n",
      "209  0.388445  16.1775  15.0636  13.79474  -8.044644  21.6135  Abnormal  \n",
      "\n",
      "[210 rows x 13 columns]\n",
      "          Col1       Col2       Col3       Col4        Col5       Col6  \\\n",
      "210  38.505273  16.964297  35.112814  21.540976  127.632875   7.986683   \n",
      "211  54.920858  18.968430  51.601455  35.952428  125.846646   2.001642   \n",
      "212  44.362490   8.945435  46.902096  35.417055  129.220682   4.994195   \n",
      "213  48.318931  17.452121  48.000000  30.866809  128.980308  -0.910941   \n",
      "214  45.701789  10.659859  42.577846  35.041929  130.178314  -3.388910   \n",
      "..         ...        ...        ...        ...         ...        ...   \n",
      "415  40.050785   1.538023  33.051429  38.512762  118.814162  -3.396639   \n",
      "416  42.709353  14.660648  38.258130  28.048705  121.444224   6.119014   \n",
      "417  71.131165  15.465272  55.179821  55.665893  108.900426   1.096851   \n",
      "418  64.588383  14.687246  43.842935  49.901137  115.784722   5.851458   \n",
      "419  51.215082  14.112434  33.706854  37.102648  125.742568  11.708733   \n",
      "\n",
      "         Col7       Col8       Col9      Col10      Col11      Col12 Class_att  \n",
      "210  0.396364  34.810600  12.780200  15.249960 -28.833891  18.044200    Normal  \n",
      "211  0.106175   7.390700  11.301400   8.370760 -17.723457   9.871100    Normal  \n",
      "212  0.537574  33.060100   7.808000  11.376600  -5.202362  33.250300    Normal  \n",
      "213  0.744322  36.619400  14.635000  11.627100 -28.598802  10.337900    Normal  \n",
      "214  0.990034  26.633300  18.369400  16.448320 -13.438814  34.284600    Normal  \n",
      "..        ...        ...        ...        ...        ...        ...       ...  \n",
      "415  0.501457  27.862154  14.143787  10.698962 -10.515122  19.625088    Normal  \n",
      "416  0.115053  15.596239  16.482125   8.075321 -33.866746  29.500319    Normal  \n",
      "417  0.246265  19.575639  15.427280   9.984135 -32.752333  16.642191    Normal  \n",
      "418  0.033929  30.990959  15.372189  16.091707  -5.405806  33.555103    Normal  \n",
      "419  0.794138  32.737395  11.911602  13.062833 -17.664496  18.986061    Normal  \n",
      "\n",
      "[210 rows x 13 columns]\n"
     ]
    }
   ],
   "source": [
    "abnormal_df = df_balance[df_balance['Class_att'] == 'Abnormal']\n",
    "normal_df = df_balance[df_balance['Class_att'] == 'Normal']\n",
    "\n",
    "print(abnormal_df)\n",
    "print(normal_df)"
   ]
  },
  {
   "cell_type": "markdown",
   "metadata": {
    "id": "V-ntjQcSDcG7"
   },
   "source": [
    "**Memvisualisasikan data-data di dataframe dengan membuat scatter plot**"
   ]
  },
  {
   "cell_type": "code",
   "execution_count": null,
   "metadata": {
    "colab": {
     "base_uri": "https://localhost:8080/",
     "height": 1000
    },
    "id": "6MR0i2NmhGkl",
    "outputId": "a6a34540-5a67-497d-febd-68124da67b21"
   },
   "outputs": [
    {
     "data": {
      "text/plain": [
       "Text(0, 0.5, 'Values')"
      ]
     },
     "execution_count": 12,
     "metadata": {},
     "output_type": "execute_result"
    },
    {
     "data": {
      "image/png": "[encoded data removed]",
      "text/plain": [
       "<Figure size 1500x800 with 3 Axes>"
      ]
     },
     "metadata": {},
     "output_type": "display_data"
    },
    {
     "data": {
      "image/png": "[encoded data removed]",
      "text/plain": [
       "<Figure size 1500x800 with 3 Axes>"
      ]
     },
     "metadata": {},
     "output_type": "display_data"
    }
   ],
   "source": [
    "fig, (ax1, ax2, ax3) = plt.subplots(1, 3, figsize=(15, 8))\n",
    "fig, (ax4, ax5, ax6) = plt.subplots(1, 3, figsize=(15, 8))\n",
    "\n",
    "ax1.scatter(df_balance[\"Class_att\"], df_balance[\"Col1\"])\n",
    "ax1.set_title('Column 1')\n",
    "ax1.set_xlabel('Class Attribute')\n",
    "ax1.set_ylabel('Values')\n",
    "\n",
    "ax2.scatter(df_balance[\"Class_att\"], df_balance[\"Col2\"])\n",
    "ax2.set_title('Column 2')\n",
    "ax2.set_xlabel('Class Attribute')\n",
    "ax2.set_ylabel('Values')\n",
    "\n",
    "ax3.scatter(df_balance[\"Class_att\"], df_balance[\"Col3\"])\n",
    "ax3.set_title('Column 3')\n",
    "ax3.set_xlabel('Class Attribute')\n",
    "ax3.set_ylabel('Values')\n",
    "\n",
    "ax4.scatter(df_balance[\"Class_att\"], df_balance[\"Col4\"])\n",
    "ax4.set_title('Column 4')\n",
    "ax4.set_xlabel('Class Attribute')\n",
    "ax4.set_ylabel('Values')\n",
    "\n",
    "ax5.scatter(df_balance[\"Class_att\"], df_balance[\"Col5\"])\n",
    "ax5.set_title('Column 5')\n",
    "ax5.set_xlabel('Class Attribute')\n",
    "ax5.set_ylabel('Values')\n",
    "\n",
    "ax6.scatter(df_balance[\"Class_att\"], df_balance[\"Col6\"])\n",
    "ax6.set_title('Column 6')\n",
    "ax6.set_xlabel('Class Attribute')\n",
    "ax6.set_ylabel('Values')"
   ]
  },
  {
   "cell_type": "code",
   "execution_count": null,
   "metadata": {
    "colab": {
     "base_uri": "https://localhost:8080/",
     "height": 1000
    },
    "id": "sOm3y39HhINf",
    "outputId": "a20b7814-cb38-464e-c6a5-f51c5555bce2"
   },
   "outputs": [
    {
     "data": {
      "text/plain": [
       "Text(0, 0.5, 'Values')"
      ]
     },
     "execution_count": 13,
     "metadata": {},
     "output_type": "execute_result"
    },
    {
     "data": {
      "image/png": "[encoded data removed]",
      "text/plain": [
       "<Figure size 1500x800 with 3 Axes>"
      ]
     },
     "metadata": {},
     "output_type": "display_data"
    },
    {
     "data": {
      "image/png": "[encoded data removed]",
      "text/plain": [
       "<Figure size 1500x800 with 3 Axes>"
      ]
     },
     "metadata": {},
     "output_type": "display_data"
    }
   ],
   "source": [
    "fig, (ax1, ax2, ax3) = plt.subplots(1, 3, figsize=(15, 8))\n",
    "fig, (ax4, ax5, ax6) = plt.subplots(1, 3, figsize=(15, 8))\n",
    "\n",
    "ax1.scatter(df_balance[\"Class_att\"], df_balance[\"Col7\"])\n",
    "ax1.set_title('Column 7')\n",
    "ax1.set_xlabel('Class Attribute')\n",
    "ax1.set_ylabel('Values')\n",
    "\n",
    "ax2.scatter(df_balance[\"Class_att\"], df_balance[\"Col8\"])\n",
    "ax2.set_title('Column 8')\n",
    "ax2.set_xlabel('Class Attribute')\n",
    "ax2.set_ylabel('Values')\n",
    "\n",
    "ax3.scatter(df_balance[\"Class_att\"], df_balance[\"Col9\"])\n",
    "ax3.set_title('Column 9')\n",
    "ax3.set_xlabel('Class Attribute')\n",
    "ax3.set_ylabel('Values')\n",
    "\n",
    "ax4.scatter(df_balance[\"Class_att\"], df_balance[\"Col10\"])\n",
    "ax4.set_title('Column 10')\n",
    "ax4.set_xlabel('Class Attribute')\n",
    "ax4.set_ylabel('Values')\n",
    "\n",
    "ax5.scatter(df_balance[\"Class_att\"], df_balance[\"Col11\"])\n",
    "ax5.set_title('Column 11')\n",
    "ax5.set_xlabel('Class Attribute')\n",
    "ax5.set_ylabel('Values')\n",
    "\n",
    "ax6.scatter(df_balance[\"Class_att\"], df_balance[\"Col12\"])\n",
    "ax6.set_title('Column 12')\n",
    "ax6.set_xlabel('Class Attribute')\n",
    "ax6.set_ylabel('Values')"
   ]
  },
  {
   "cell_type": "markdown",
   "metadata": {
    "id": "_AfIooGDxYsV"
   },
   "source": [
    "Dengan dibuatnya scatterplot, bisa membantu mengetahui distribusi berbagai data."
   ]
  },
  {
   "cell_type": "markdown",
   "metadata": {
    "id": "BeEF1zTgDs6_"
   },
   "source": [
    "**Melakukan encoding mengubah data kategorikal menjadi numerik**"
   ]
  },
  {
   "cell_type": "code",
   "execution_count": null,
   "metadata": {
    "colab": {
     "base_uri": "https://localhost:8080/"
    },
    "id": "lhaPuz33y-zq",
    "outputId": "e28997b0-d691-455e-a34c-5c4f9cc0b1a4"
   },
   "outputs": [
    {
     "name": "stdout",
     "output_type": "stream",
     "text": [
      "[0 0 0 0 0 0 0 0 0 0 0 0 0 0 0 0 0 0 0 0 0 0 0 0 0 0 0 0 0 0 0 0 0 0 0 0 0\n",
      " 0 0 0 0 0 0 0 0 0 0 0 0 0 0 0 0 0 0 0 0 0 0 0 0 0 0 0 0 0 0 0 0 0 0 0 0 0\n",
      " 0 0 0 0 0 0 0 0 0 0 0 0 0 0 0 0 0 0 0 0 0 0 0 0 0 0 0 0 0 0 0 0 0 0 0 0 0\n",
      " 0 0 0 0 0 0 0 0 0 0 0 0 0 0 0 0 0 0 0 0 0 0 0 0 0 0 0 0 0 0 0 0 0 0 0 0 0\n",
      " 0 0 0 0 0 0 0 0 0 0 0 0 0 0 0 0 0 0 0 0 0 0 0 0 0 0 0 0 0 0 0 0 0 0 0 0 0\n",
      " 0 0 0 0 0 0 0 0 0 0 0 0 0 0 0 0 0 0 0 0 0 0 0 0 0 1 1 1 1 1 1 1 1 1 1 1 1\n",
      " 1 1 1 1 1 1 1 1 1 1 1 1 1 1 1 1 1 1 1 1 1 1 1 1 1 1 1 1 1 1 1 1 1 1 1 1 1\n",
      " 1 1 1 1 1 1 1 1 1 1 1 1 1 1 1 1 1 1 1 1 1 1 1 1 1 1 1 1 1 1 1 1 1 1 1 1 1\n",
      " 1 1 1 1 1 1 1 1 1 1 1 1 1 1 1 1 1 1 1 1 1 1 1 1 1 1 1 1 1 1 1 1 1 1 1 1 1\n",
      " 1 1 1 1 1 1 1 1 1 1 1 1 1 1 1 1 1 1 1 1 1 1 1 1 1 1 1 1 1 1 1 1 1 1 1 1 1\n",
      " 1 1 1 1 1 1 1 1 1 1 1 1 1 1 1 1 1 1 1 1 1 1 1 1 1 1 1 1 1 1 1 1 1 1 1 1 1\n",
      " 1 1 1 1 1 1 1 1 1 1 1 1 1]\n"
     ]
    }
   ],
   "source": [
    "from sklearn.preprocessing import LabelEncoder\n",
    "\n",
    "class_att = df_balance['Class_att']\n",
    "encoded_class_att = LabelEncoder().fit_transform(class_att)\n",
    "print(encoded_class_att)"
   ]
  },
  {
   "cell_type": "markdown",
   "metadata": {
    "id": "IevGJXwN8K_B"
   },
   "source": [
    "Sebagai hasilnya, data-data pada \"Class_att\" telah diubah ke numerik"
   ]
  },
  {
   "cell_type": "code",
   "execution_count": null,
   "metadata": {
    "colab": {
     "base_uri": "https://localhost:8080/"
    },
    "id": "CpgrVnQtz4J6",
    "outputId": "b3aa5f39-9f17-4ec7-abc9-51ca5babb5e8"
   },
   "outputs": [
    {
     "name": "stdout",
     "output_type": "stream",
     "text": [
      "          Col1       Col2       Col3       Col4        Col5       Col6  \\\n",
      "0    63.027817  22.552586  39.609117  40.475232   98.672917  -0.254400   \n",
      "1    39.056951  10.060991  25.015378  28.995960  114.405425   4.564259   \n",
      "2    68.832021  22.218482  50.092194  46.613539  105.985135  -3.530317   \n",
      "3    69.297008  24.652878  44.311238  44.644130  101.868495  11.211523   \n",
      "4    49.712859   9.652075  28.317406  40.060784  108.168725   7.918501   \n",
      "..         ...        ...        ...        ...         ...        ...   \n",
      "415  40.050785   1.538023  33.051429  38.512762  118.814162  -3.396639   \n",
      "416  42.709353  14.660648  38.258130  28.048705  121.444224   6.119014   \n",
      "417  71.131165  15.465272  55.179821  55.665893  108.900426   1.096851   \n",
      "418  64.588383  14.687246  43.842935  49.901137  115.784722   5.851458   \n",
      "419  51.215082  14.112434  33.706854  37.102648  125.742568  11.708733   \n",
      "\n",
      "         Col7       Col8       Col9      Col10      Col11      Col12  \\\n",
      "0    0.744503  12.566100  14.538600  15.304680 -28.658501  43.512300   \n",
      "1    0.415186  12.887400  17.532300  16.784860 -25.530607  16.110200   \n",
      "2    0.474889  26.834300  17.486100  16.658970 -29.031888  19.222100   \n",
      "3    0.369345  23.560300  12.707400  11.424470 -30.470246  18.832900   \n",
      "4    0.543360  35.494000  15.954600   8.872370 -16.378376  24.917100   \n",
      "..        ...        ...        ...        ...        ...        ...   \n",
      "415  0.501457  27.862154  14.143787  10.698962 -10.515122  19.625088   \n",
      "416  0.115053  15.596239  16.482125   8.075321 -33.866746  29.500319   \n",
      "417  0.246265  19.575639  15.427280   9.984135 -32.752333  16.642191   \n",
      "418  0.033929  30.990959  15.372189  16.091707  -5.405806  33.555103   \n",
      "419  0.794138  32.737395  11.911602  13.062833 -17.664496  18.986061   \n",
      "\n",
      "     Class_att  \n",
      "0            0  \n",
      "1            0  \n",
      "2            0  \n",
      "3            0  \n",
      "4            0  \n",
      "..         ...  \n",
      "415          1  \n",
      "416          1  \n",
      "417          1  \n",
      "418          1  \n",
      "419          1  \n",
      "\n",
      "[420 rows x 13 columns]\n"
     ]
    }
   ],
   "source": [
    "df = df_balance.iloc[:, 0:12]\n",
    "df['Class_att'] = encoded_class_att\n",
    "print(df)"
   ]
  },
  {
   "cell_type": "markdown",
   "metadata": {
    "id": "Npu4tZKHD6XG"
   },
   "source": [
    "Data-data pada variabel Class_att telah diubah dari kategorik menjadi numerik. Supaya mudah dalam melakukan train test split."
   ]
  },
  {
   "cell_type": "code",
   "execution_count": null,
   "metadata": {
    "colab": {
     "base_uri": "https://localhost:8080/"
    },
    "id": "fGESzI5vfok3",
    "outputId": "ce143c5e-5ab7-4831-c0ca-2f7d81e1a9ba"
   },
   "outputs": [
    {
     "name": "stdout",
     "output_type": "stream",
     "text": [
      "Col1         0\n",
      "Col2         0\n",
      "Col3         0\n",
      "Col4         0\n",
      "Col5         0\n",
      "Col6         0\n",
      "Col7         0\n",
      "Col8         0\n",
      "Col9         0\n",
      "Col10        0\n",
      "Col11        0\n",
      "Col12        0\n",
      "Class_att    0\n",
      "dtype: int64\n"
     ]
    }
   ],
   "source": [
    "null_data = df.isnull().sum()\n",
    "print(null_data)"
   ]
  },
  {
   "cell_type": "code",
   "execution_count": null,
   "metadata": {
    "colab": {
     "base_uri": "https://localhost:8080/"
    },
    "id": "vjd1d-2kI7RM",
    "outputId": "7300a04e-ef2b-4cdb-bb92-349bdb919413"
   },
   "outputs": [
    {
     "name": "stdout",
     "output_type": "stream",
     "text": [
      "          Col1       Col2       Col3       Col4        Col5        Col6  \\\n",
      "0    63.027817  22.552586  39.609117  40.475232   98.672917   -0.254400   \n",
      "1    39.056951  10.060991  25.015378  28.995960  114.405425    4.564259   \n",
      "2    68.832021  22.218482  50.092194  46.613539  105.985135   -3.530317   \n",
      "3    69.297008  24.652878  44.311238  44.644130  101.868495   11.211523   \n",
      "4    49.712859   9.652075  28.317406  40.060784  108.168725    7.918501   \n",
      "..         ...        ...        ...        ...         ...         ...   \n",
      "205  80.111572  33.942432  85.101608  46.169139  125.593624  100.292107   \n",
      "206  95.480229  46.550053  59.000000  48.930176   96.683903   77.283072   \n",
      "207  74.094731  18.823727  76.032156  55.271004  128.405731   73.388216   \n",
      "208  87.679087  20.365613  93.822416  67.313473  120.944829   76.730629   \n",
      "209  48.259920  16.417462  36.329137  31.842457   94.882336   28.343799   \n",
      "\n",
      "         Col7     Col8     Col9     Col10      Col11    Col12  Class_att  \n",
      "0    0.744503  12.5661  14.5386  15.30468 -28.658501  43.5123          0  \n",
      "1    0.415186  12.8874  17.5323  16.78486 -25.530607  16.1102          0  \n",
      "2    0.474889  26.8343  17.4861  16.65897 -29.031888  19.2221          0  \n",
      "3    0.369345  23.5603  12.7074  11.42447 -30.470246  18.8329          0  \n",
      "4    0.543360  35.4940  15.9546   8.87237 -16.378376  24.9171          0  \n",
      "..        ...      ...      ...       ...        ...      ...        ...  \n",
      "205  0.088561  11.6503  16.1451   9.69950   4.446480  36.0749          0  \n",
      "206  0.778848  29.8380  14.5939  12.22450 -21.695815  38.7849          0  \n",
      "207  0.910886  13.1813  10.1368   8.49572  -0.337130  11.6844          0  \n",
      "208  0.574775  23.8665  13.0473   9.41012   5.212541  28.6308          0  \n",
      "209  0.388445  16.1775  15.0636  13.79474  -8.044644  21.6135          0  \n",
      "\n",
      "[210 rows x 13 columns]\n",
      "          Col1       Col2       Col3       Col4        Col5      Col6  \\\n",
      "210  38.505273  16.964297  35.112814  21.540976  127.632875  7.986683   \n",
      "211  54.920858  18.968430  51.601455  35.952428  125.846646  2.001642   \n",
      "212  44.362490   8.945435  46.902096  35.417055  129.220682  4.994195   \n",
      "213  48.318931  17.452121  48.000000  30.866809  128.980308 -0.910941   \n",
      "214  45.701789  10.659859  42.577846  35.041929  130.178314 -3.388910   \n",
      "..         ...        ...        ...        ...         ...       ...   \n",
      "415  51.237160   9.474053  44.467362  41.763107  127.432161  3.070182   \n",
      "416  42.929730  -5.841352  57.974174  48.771082  121.623315 -3.369999   \n",
      "417  44.616899   9.271101  46.080677  35.345798  129.402590  3.401770   \n",
      "418  68.211877  13.325497  56.500801  54.886380  126.078188  9.779255   \n",
      "419  44.286145  17.251657  42.704191  27.034489  128.426599  2.745413   \n",
      "\n",
      "         Col7       Col8       Col9      Col10      Col11      Col12  \\\n",
      "210  0.396364  34.810600  12.780200  15.249960 -28.833891  18.044200   \n",
      "211  0.106175   7.390700  11.301400   8.370760 -17.723457   9.871100   \n",
      "212  0.537574  33.060100   7.808000  11.376600  -5.202362  33.250300   \n",
      "213  0.744322  36.619400  14.635000  11.627100 -28.598802  10.337900   \n",
      "214  0.990034  26.633300  18.369400  16.448320 -13.438814  34.284600   \n",
      "..        ...        ...        ...        ...        ...        ...   \n",
      "415  0.446130  21.840136  15.002201  13.442438 -29.417238  17.909313   \n",
      "416  0.542593  12.478466   8.610810   9.076008 -27.638669  12.723634   \n",
      "417  0.623522  31.839288   9.814206  12.340006  -6.766929  33.446772   \n",
      "418  0.412076  33.525503   8.152284   7.828207 -11.630681  13.935458   \n",
      "419  0.601333  35.876099  13.872796  13.115864 -28.695409  13.504696   \n",
      "\n",
      "     Class_att  \n",
      "210          1  \n",
      "211          1  \n",
      "212          1  \n",
      "213          1  \n",
      "214          1  \n",
      "..         ...  \n",
      "415          1  \n",
      "416          1  \n",
      "417          1  \n",
      "418          1  \n",
      "419          1  \n",
      "\n",
      "[210 rows x 13 columns]\n"
     ]
    }
   ],
   "source": [
    "abnormal_df = df[df['Class_att'] == 0]\n",
    "normal_df = df[df['Class_att'] == 1]\n",
    "\n",
    "print(abnormal_df)\n",
    "print(normal_df)"
   ]
  },
  {
   "cell_type": "markdown",
   "metadata": {
    "id": "8fvUiBgHm3-6"
   },
   "source": [
    "Dari eksplorasi yang telah saya lakukan, saya menemukan masalah dimana dataset memiliki jumlah data dengan setiap kelas yang tidak seimbang dan variabel target bertipe kategorik. Untuk menyeimbangkan jumlah data, saya menggunakan SMOTE karena bagus untuk menyelesaikannya dengan tujuan meningkatkan performa model ANN dan mencegah bias terhadap kelas yang memiliki data yang lebih banyak serta mengurangi terjadinya overfitting.\n",
    "\n",
    "Untuk encoding saya menggunakan metode LabelEncoder untuk mengubah data kategorikal menjadi numerikal. Karena, merupakan metode yang lebih praktis, sederhana, dan caranya sangat efektif untuk mengubah data kategorikal di suatu dataset menjadi data numerik. Hal ini bertujuan untuk meningkatkan performa dari model dalam melakukan training.\n"
   ]
  },
  {
   "cell_type": "markdown",
   "metadata": {
    "id": "DFRSQvv94kXt"
   },
   "source": [
    "**Bagian b**"
   ]
  },
  {
   "cell_type": "markdown",
   "metadata": {
    "id": "7LYcCo21FC_h"
   },
   "source": [
    "**Membagi dataset menjadi train, test, and validation dengan proporsi: 80% train, 10% test, and 10% validation**"
   ]
  },
  {
   "cell_type": "code",
   "execution_count": null,
   "metadata": {
    "id": "FLavrtxWH9aS"
   },
   "outputs": [],
   "source": [
    "# Melakukan pengacakan pada data-data dalam dataframe\n",
    "\n",
    "df_shuffle = df.sample(frac=1).reset_index(drop=True)"
   ]
  },
  {
   "cell_type": "markdown",
   "metadata": {
    "id": "YZM3SZZ3dFtp"
   },
   "source": [
    "Sebelum dibagi menjadi train, test, dan validation, dilakukan pengacakan data agar distribusinya menjadi merata saat dilakukan training pada model ANN."
   ]
  },
  {
   "cell_type": "code",
   "execution_count": null,
   "metadata": {
    "id": "3h_VylvDI7RN"
   },
   "outputs": [],
   "source": [
    "train_data, test_data, val_data = np.split(df_shuffle, [int(0.8*len(df)), int(0.9*len(df))])"
   ]
  },
  {
   "cell_type": "markdown",
   "metadata": {
    "id": "UoHyYN7YWQ8b"
   },
   "source": [
    "Didapatkan proporsi training data sebesar 80%, testing data, dan validation data sebesar 10%"
   ]
  },
  {
   "cell_type": "code",
   "execution_count": null,
   "metadata": {
    "id": "WxMUcj2SMXpz"
   },
   "outputs": [],
   "source": [
    "x_train = train_data.drop('Class_att', axis=1)\n",
    "y_train = train_data['Class_att']\n",
    "\n",
    "x_test = test_data.drop('Class_att', axis=1)\n",
    "y_test = test_data['Class_att']\n",
    "\n",
    "x_val = val_data.drop('Class_att', axis=1)\n",
    "y_val = val_data['Class_att']"
   ]
  },
  {
   "cell_type": "markdown",
   "metadata": {
    "id": "NyhX8vtpFNff"
   },
   "source": [
    "Setelah dilakukan split menjadi train, test, dan validation, lakukan pemecahan lagi menjadi dua data yang berupa data x yang merupakan variabel independen dan y yang merupakan variabel dependen."
   ]
  },
  {
   "cell_type": "markdown",
   "metadata": {
    "id": "5kpHtE9M5JmF"
   },
   "source": [
    "**Bagian c**"
   ]
  },
  {
   "cell_type": "markdown",
   "metadata": {
    "id": "b5z9ojiuFmpM"
   },
   "source": [
    "**Membuat model ANN dan train**"
   ]
  },
  {
   "cell_type": "code",
   "execution_count": null,
   "metadata": {
    "id": "K2_ndsCdI7RN"
   },
   "outputs": [],
   "source": [
    "import tensorflow as tf\n",
    "from tensorflow.python.keras.layers import Dense\n",
    "from tensorflow.keras.models import Sequential\n",
    "from tensorflow.keras.optimizers import Adam\n",
    "\n",
    "model = Sequential([\n",
    "    Dense(512, activation='sigmoid'),\n",
    "    Dense(256, activation='sigmoid'),\n",
    "    Dense(128, activation='sigmoid'),\n",
    "    Dense(2, activation='softmax')\n",
    "])"
   ]
  },
  {
   "cell_type": "code",
   "execution_count": null,
   "metadata": {
    "colab": {
     "base_uri": "https://localhost:8080/"
    },
    "id": "siJUImx0I7RN",
    "outputId": "c9df6384-cd85-4faf-84d7-d70090018e8d"
   },
   "outputs": [
    {
     "name": "stdout",
     "output_type": "stream",
     "text": [
      "Epoch 1/50\n",
      "11/11 [==============================] - 1s 29ms/step - loss: 0.6644 - accuracy: 0.5774 - val_loss: 0.5188 - val_accuracy: 0.8571\n",
      "Epoch 2/50\n",
      "11/11 [==============================] - 0s 12ms/step - loss: 0.4925 - accuracy: 0.7946 - val_loss: 0.3617 - val_accuracy: 0.8810\n",
      "Epoch 3/50\n",
      "11/11 [==============================] - 0s 9ms/step - loss: 0.4251 - accuracy: 0.8125 - val_loss: 0.3062 - val_accuracy: 0.8810\n",
      "Epoch 4/50\n",
      "11/11 [==============================] - 0s 11ms/step - loss: 0.3724 - accuracy: 0.8393 - val_loss: 0.3366 - val_accuracy: 0.8571\n",
      "Epoch 5/50\n",
      "11/11 [==============================] - 0s 11ms/step - loss: 0.3285 - accuracy: 0.8482 - val_loss: 0.3522 - val_accuracy: 0.8095\n",
      "Epoch 6/50\n",
      "11/11 [==============================] - 0s 13ms/step - loss: 0.3595 - accuracy: 0.8482 - val_loss: 0.3101 - val_accuracy: 0.9048\n",
      "Epoch 7/50\n",
      "11/11 [==============================] - 0s 10ms/step - loss: 0.3591 - accuracy: 0.8482 - val_loss: 0.2773 - val_accuracy: 0.9048\n",
      "Epoch 8/50\n",
      "11/11 [==============================] - 0s 15ms/step - loss: 0.3448 - accuracy: 0.8601 - val_loss: 0.3084 - val_accuracy: 0.8571\n",
      "Epoch 9/50\n",
      "11/11 [==============================] - 0s 16ms/step - loss: 0.3376 - accuracy: 0.8482 - val_loss: 0.3680 - val_accuracy: 0.8095\n",
      "Epoch 10/50\n",
      "11/11 [==============================] - 0s 14ms/step - loss: 0.3380 - accuracy: 0.8482 - val_loss: 0.2548 - val_accuracy: 0.9048\n",
      "Epoch 11/50\n",
      "11/11 [==============================] - 0s 24ms/step - loss: 0.2943 - accuracy: 0.8661 - val_loss: 0.2498 - val_accuracy: 0.9048\n",
      "Epoch 12/50\n",
      "11/11 [==============================] - 0s 18ms/step - loss: 0.3169 - accuracy: 0.8512 - val_loss: 0.3440 - val_accuracy: 0.8810\n",
      "Epoch 13/50\n",
      "11/11 [==============================] - 0s 21ms/step - loss: 0.3010 - accuracy: 0.8780 - val_loss: 0.2532 - val_accuracy: 0.9048\n",
      "Epoch 14/50\n",
      "11/11 [==============================] - 0s 20ms/step - loss: 0.2736 - accuracy: 0.8869 - val_loss: 0.2570 - val_accuracy: 0.8810\n",
      "Epoch 15/50\n",
      "11/11 [==============================] - 0s 16ms/step - loss: 0.2636 - accuracy: 0.8869 - val_loss: 0.2679 - val_accuracy: 0.8810\n",
      "Epoch 16/50\n",
      "11/11 [==============================] - 0s 16ms/step - loss: 0.2796 - accuracy: 0.8810 - val_loss: 0.2396 - val_accuracy: 0.9048\n",
      "Epoch 17/50\n",
      "11/11 [==============================] - 0s 23ms/step - loss: 0.3059 - accuracy: 0.8601 - val_loss: 0.2244 - val_accuracy: 0.9524\n",
      "Epoch 18/50\n",
      "11/11 [==============================] - 0s 16ms/step - loss: 0.2635 - accuracy: 0.8810 - val_loss: 0.2249 - val_accuracy: 0.9524\n",
      "Epoch 19/50\n",
      "11/11 [==============================] - 0s 21ms/step - loss: 0.2552 - accuracy: 0.8929 - val_loss: 0.2147 - val_accuracy: 0.9286\n",
      "Epoch 20/50\n",
      "11/11 [==============================] - 0s 17ms/step - loss: 0.2495 - accuracy: 0.8810 - val_loss: 0.2068 - val_accuracy: 0.9524\n",
      "Epoch 21/50\n",
      "11/11 [==============================] - 0s 16ms/step - loss: 0.2460 - accuracy: 0.8839 - val_loss: 0.2922 - val_accuracy: 0.8571\n",
      "Epoch 22/50\n",
      "11/11 [==============================] - 0s 25ms/step - loss: 0.2533 - accuracy: 0.8929 - val_loss: 0.3077 - val_accuracy: 0.8571\n",
      "Epoch 23/50\n",
      "11/11 [==============================] - 0s 14ms/step - loss: 0.2506 - accuracy: 0.8869 - val_loss: 0.2011 - val_accuracy: 0.9524\n",
      "Epoch 24/50\n",
      "11/11 [==============================] - 0s 26ms/step - loss: 0.2312 - accuracy: 0.8958 - val_loss: 0.2160 - val_accuracy: 0.9524\n",
      "Epoch 25/50\n",
      "11/11 [==============================] - 0s 17ms/step - loss: 0.2378 - accuracy: 0.8869 - val_loss: 0.2451 - val_accuracy: 0.8810\n",
      "Epoch 26/50\n",
      "11/11 [==============================] - 0s 16ms/step - loss: 0.2790 - accuracy: 0.8690 - val_loss: 0.2039 - val_accuracy: 0.9286\n",
      "Epoch 27/50\n",
      "11/11 [==============================] - 0s 15ms/step - loss: 0.2317 - accuracy: 0.8929 - val_loss: 0.2346 - val_accuracy: 0.9286\n",
      "Epoch 28/50\n",
      "11/11 [==============================] - 0s 15ms/step - loss: 0.2350 - accuracy: 0.8899 - val_loss: 0.2135 - val_accuracy: 0.9286\n",
      "Epoch 29/50\n",
      "11/11 [==============================] - 0s 15ms/step - loss: 0.2224 - accuracy: 0.8988 - val_loss: 0.1984 - val_accuracy: 0.9524\n",
      "Epoch 30/50\n",
      "11/11 [==============================] - 0s 22ms/step - loss: 0.2063 - accuracy: 0.9018 - val_loss: 0.1867 - val_accuracy: 0.9286\n",
      "Epoch 31/50\n",
      "11/11 [==============================] - 0s 20ms/step - loss: 0.2090 - accuracy: 0.8958 - val_loss: 0.1882 - val_accuracy: 0.9524\n",
      "Epoch 32/50\n",
      "11/11 [==============================] - 0s 22ms/step - loss: 0.1940 - accuracy: 0.9226 - val_loss: 0.1652 - val_accuracy: 0.9524\n",
      "Epoch 33/50\n",
      "11/11 [==============================] - 0s 22ms/step - loss: 0.1933 - accuracy: 0.9137 - val_loss: 0.1714 - val_accuracy: 0.9762\n",
      "Epoch 34/50\n",
      "11/11 [==============================] - 0s 16ms/step - loss: 0.1899 - accuracy: 0.9226 - val_loss: 0.1735 - val_accuracy: 0.9524\n",
      "Epoch 35/50\n",
      "11/11 [==============================] - 0s 16ms/step - loss: 0.1855 - accuracy: 0.9256 - val_loss: 0.2085 - val_accuracy: 0.8810\n",
      "Epoch 36/50\n",
      "11/11 [==============================] - 0s 17ms/step - loss: 0.2087 - accuracy: 0.8839 - val_loss: 0.1594 - val_accuracy: 0.9762\n",
      "Epoch 37/50\n",
      "11/11 [==============================] - 0s 19ms/step - loss: 0.1977 - accuracy: 0.9196 - val_loss: 0.2251 - val_accuracy: 0.9048\n",
      "Epoch 38/50\n",
      "11/11 [==============================] - 0s 25ms/step - loss: 0.2139 - accuracy: 0.9018 - val_loss: 0.1674 - val_accuracy: 0.9524\n",
      "Epoch 39/50\n",
      "11/11 [==============================] - 0s 15ms/step - loss: 0.1848 - accuracy: 0.9345 - val_loss: 0.1708 - val_accuracy: 0.9524\n",
      "Epoch 40/50\n",
      "11/11 [==============================] - 0s 29ms/step - loss: 0.1828 - accuracy: 0.9226 - val_loss: 0.2162 - val_accuracy: 0.9048\n",
      "Epoch 41/50\n",
      "11/11 [==============================] - 0s 35ms/step - loss: 0.1981 - accuracy: 0.9018 - val_loss: 0.1929 - val_accuracy: 0.9286\n",
      "Epoch 42/50\n",
      "11/11 [==============================] - 0s 31ms/step - loss: 0.1800 - accuracy: 0.9107 - val_loss: 0.1720 - val_accuracy: 0.9524\n",
      "Epoch 43/50\n",
      "11/11 [==============================] - 0s 34ms/step - loss: 0.1818 - accuracy: 0.9107 - val_loss: 0.1585 - val_accuracy: 0.9762\n",
      "Epoch 44/50\n",
      "11/11 [==============================] - 0s 26ms/step - loss: 0.1841 - accuracy: 0.9226 - val_loss: 0.1426 - val_accuracy: 0.9762\n",
      "Epoch 45/50\n",
      "11/11 [==============================] - 0s 31ms/step - loss: 0.1523 - accuracy: 0.9435 - val_loss: 0.1386 - val_accuracy: 0.9762\n",
      "Epoch 46/50\n",
      "11/11 [==============================] - 0s 34ms/step - loss: 0.1443 - accuracy: 0.9345 - val_loss: 0.1614 - val_accuracy: 0.9762\n",
      "Epoch 47/50\n",
      "11/11 [==============================] - 0s 28ms/step - loss: 0.1433 - accuracy: 0.9315 - val_loss: 0.3544 - val_accuracy: 0.8095\n",
      "Epoch 48/50\n",
      "11/11 [==============================] - 0s 25ms/step - loss: 0.1804 - accuracy: 0.9196 - val_loss: 0.2169 - val_accuracy: 0.9524\n",
      "Epoch 49/50\n",
      "11/11 [==============================] - 1s 55ms/step - loss: 0.1422 - accuracy: 0.9435 - val_loss: 0.2909 - val_accuracy: 0.8333\n",
      "Epoch 50/50\n",
      "11/11 [==============================] - 0s 30ms/step - loss: 0.2430 - accuracy: 0.9167 - val_loss: 0.2705 - val_accuracy: 0.8333\n"
     ]
    }
   ],
   "source": [
    "model.compile(optimizer = Adam(learning_rate = 0.001), loss = 'sparse_categorical_crossentropy', metrics = ['accuracy'])\n",
    "\n",
    "train_model = model.fit(x_train, y_train, validation_data = (x_val, y_val), epochs = 50)"
   ]
  },
  {
   "cell_type": "markdown",
   "metadata": {
    "id": "JjLhd5cWFxIg"
   },
   "source": [
    "Dari hasil model train, dapat dijelaskan setiap kali epoch bertambah accuracy untuk train dan validation meningkat. Tetapi, saat hampir mencapai epoch terakhir terjadi penurunan pada validation accuracy dan peningkatan pada loss nya. Hal dikarenakan adanya overfitting dimana model berkinerja baik dalam training tapi buruk pada validation."
   ]
  },
  {
   "cell_type": "markdown",
   "metadata": {
    "id": "PCvagkplP9z4"
   },
   "source": [
    "**Menampilkan grafik validation loss dan training loss**"
   ]
  },
  {
   "cell_type": "code",
   "execution_count": null,
   "metadata": {
    "colab": {
     "base_uri": "https://localhost:8080/",
     "height": 472
    },
    "id": "ZQGRNivNI7RN",
    "outputId": "bbaaaa1b-bb35-4ccd-c2f1-d7418ca9a55b"
   },
   "outputs": [
    {
     "data": {
      "image/png": "[encoded data removed]",
      "text/plain": [
       "<Figure size 640x480 with 1 Axes>"
      ]
     },
     "metadata": {},
     "output_type": "display_data"
    }
   ],
   "source": [
    "plt.plot(train_model.history['loss'])\n",
    "plt.plot(train_model.history['val_loss'])\n",
    "plt.title('Model Loss')\n",
    "plt.ylabel('Loss')\n",
    "plt.xlabel('Epoch')\n",
    "plt.legend(['train', 'validation'])\n",
    "plt.show()"
   ]
  },
  {
   "cell_type": "markdown",
   "metadata": {
    "id": "b68hVizXQKQX"
   },
   "source": [
    "Dari hasil grafik, dapat dijelaskan bahwa loss pada training memiliki angka yang lebih kecil dibandingkan dengan loss pada validation. Tetapi, pada epoch terakhir terjadi peningkatan pada loss yang terjadi karena model yang mengalami overfitting."
   ]
  },
  {
   "cell_type": "markdown",
   "metadata": {
    "id": "tmvv3vnA4uVe"
   },
   "source": [
    "**Bagian d**"
   ]
  },
  {
   "cell_type": "markdown",
   "metadata": {
    "id": "iIx_pPncJr6T"
   },
   "source": [
    "**Melakukan modifikasi model, agar mendapatkan akurasi yang optimal**"
   ]
  },
  {
   "cell_type": "code",
   "execution_count": null,
   "metadata": {
    "id": "Hsu_ywpcg6g2"
   },
   "outputs": [],
   "source": [
    "from tensorflow.keras.layers import BatchNormalization\n",
    "\n",
    "model_mod = Sequential([\n",
    "    Dense(256, activation='sigmoid'),\n",
    "    BatchNormalization(synchronized=True),\n",
    "    Dense(128, activation='sigmoid'),\n",
    "    BatchNormalization(synchronized=True),\n",
    "    Dense(64, activation='sigmoid'),\n",
    "    BatchNormalization(synchronized=True),\n",
    "    Dense(2, activation='softmax')\n",
    "])"
   ]
  },
  {
   "cell_type": "markdown",
   "metadata": {
    "id": "TZNCB5sRJ3K-"
   },
   "source": [
    "Agar mendapatkan akurasi yang optimal, dilakukan modifikasi pada model ANN yaitu memperkecil hyperparameter pada setiap hidden layer dengan membaginya lagi dengan dua dan menambahkan BatchNormalization pada setiap hidden layer. Bertujuan untuk menormalisasi setiap layer dan meningkatkan kinerja model dalam training dan validation."
   ]
  },
  {
   "cell_type": "code",
   "execution_count": null,
   "metadata": {
    "colab": {
     "base_uri": "https://localhost:8080/"
    },
    "id": "7RebnKrThBFz",
    "outputId": "28bfa7a3-116e-4d6c-abd9-7c03a2efb27b"
   },
   "outputs": [
    {
     "name": "stdout",
     "output_type": "stream",
     "text": [
      "Epoch 1/50\n",
      "11/11 [==============================] - 9s 76ms/step - loss: 0.5447 - accuracy: 0.7738 - val_loss: 0.6338 - val_accuracy: 0.6905\n",
      "Epoch 2/50\n",
      "11/11 [==============================] - 0s 20ms/step - loss: 0.3434 - accuracy: 0.8512 - val_loss: 0.6339 - val_accuracy: 0.8095\n",
      "Epoch 3/50\n",
      "11/11 [==============================] - 0s 21ms/step - loss: 0.2975 - accuracy: 0.8810 - val_loss: 0.6259 - val_accuracy: 0.8095\n",
      "Epoch 4/50\n",
      "11/11 [==============================] - 0s 14ms/step - loss: 0.2580 - accuracy: 0.9048 - val_loss: 0.6114 - val_accuracy: 0.8333\n",
      "Epoch 5/50\n",
      "11/11 [==============================] - 0s 14ms/step - loss: 0.2427 - accuracy: 0.8839 - val_loss: 0.6144 - val_accuracy: 0.8810\n",
      "Epoch 6/50\n",
      "11/11 [==============================] - 0s 13ms/step - loss: 0.2116 - accuracy: 0.9077 - val_loss: 0.6031 - val_accuracy: 0.8571\n",
      "Epoch 7/50\n",
      "11/11 [==============================] - 0s 22ms/step - loss: 0.2421 - accuracy: 0.8839 - val_loss: 0.6017 - val_accuracy: 0.8810\n",
      "Epoch 8/50\n",
      "11/11 [==============================] - 0s 13ms/step - loss: 0.1771 - accuracy: 0.9226 - val_loss: 0.5789 - val_accuracy: 0.9048\n",
      "Epoch 9/50\n",
      "11/11 [==============================] - 0s 21ms/step - loss: 0.1823 - accuracy: 0.9137 - val_loss: 0.5611 - val_accuracy: 0.8810\n",
      "Epoch 10/50\n",
      "11/11 [==============================] - 0s 14ms/step - loss: 0.1736 - accuracy: 0.9256 - val_loss: 0.5402 - val_accuracy: 0.9286\n",
      "Epoch 11/50\n",
      "11/11 [==============================] - 0s 15ms/step - loss: 0.1477 - accuracy: 0.9375 - val_loss: 0.5152 - val_accuracy: 0.9048\n",
      "Epoch 12/50\n",
      "11/11 [==============================] - 0s 14ms/step - loss: 0.2020 - accuracy: 0.9167 - val_loss: 0.5368 - val_accuracy: 0.9286\n",
      "Epoch 13/50\n",
      "11/11 [==============================] - 0s 14ms/step - loss: 0.1994 - accuracy: 0.9286 - val_loss: 0.4740 - val_accuracy: 0.8810\n",
      "Epoch 14/50\n",
      "11/11 [==============================] - 0s 24ms/step - loss: 0.1489 - accuracy: 0.9435 - val_loss: 0.5002 - val_accuracy: 0.9524\n",
      "Epoch 15/50\n",
      "11/11 [==============================] - 0s 16ms/step - loss: 0.1503 - accuracy: 0.9464 - val_loss: 0.4705 - val_accuracy: 0.8810\n",
      "Epoch 16/50\n",
      "11/11 [==============================] - 0s 15ms/step - loss: 0.1644 - accuracy: 0.9286 - val_loss: 0.4455 - val_accuracy: 0.8333\n",
      "Epoch 17/50\n",
      "11/11 [==============================] - 0s 14ms/step - loss: 0.1195 - accuracy: 0.9524 - val_loss: 0.3787 - val_accuracy: 0.9286\n",
      "Epoch 18/50\n",
      "11/11 [==============================] - 0s 13ms/step - loss: 0.1479 - accuracy: 0.9554 - val_loss: 0.4030 - val_accuracy: 0.9286\n",
      "Epoch 19/50\n",
      "11/11 [==============================] - 0s 21ms/step - loss: 0.1298 - accuracy: 0.9583 - val_loss: 0.3891 - val_accuracy: 0.8571\n",
      "Epoch 20/50\n",
      "11/11 [==============================] - 0s 14ms/step - loss: 0.1517 - accuracy: 0.9494 - val_loss: 0.3271 - val_accuracy: 0.9286\n",
      "Epoch 21/50\n",
      "11/11 [==============================] - 0s 25ms/step - loss: 0.1394 - accuracy: 0.9375 - val_loss: 0.3109 - val_accuracy: 0.9286\n",
      "Epoch 22/50\n",
      "11/11 [==============================] - 0s 20ms/step - loss: 0.0866 - accuracy: 0.9732 - val_loss: 0.3027 - val_accuracy: 0.9048\n",
      "Epoch 23/50\n",
      "11/11 [==============================] - 0s 18ms/step - loss: 0.1076 - accuracy: 0.9613 - val_loss: 0.2499 - val_accuracy: 0.9286\n",
      "Epoch 24/50\n",
      "11/11 [==============================] - 0s 26ms/step - loss: 0.1240 - accuracy: 0.9554 - val_loss: 0.2897 - val_accuracy: 0.9286\n",
      "Epoch 25/50\n",
      "11/11 [==============================] - 0s 19ms/step - loss: 0.1157 - accuracy: 0.9583 - val_loss: 0.2217 - val_accuracy: 0.9524\n",
      "Epoch 26/50\n",
      "11/11 [==============================] - 0s 25ms/step - loss: 0.1161 - accuracy: 0.9405 - val_loss: 0.2269 - val_accuracy: 0.9048\n",
      "Epoch 27/50\n",
      "11/11 [==============================] - 0s 25ms/step - loss: 0.1043 - accuracy: 0.9554 - val_loss: 0.2409 - val_accuracy: 0.9048\n",
      "Epoch 28/50\n",
      "11/11 [==============================] - 0s 19ms/step - loss: 0.1333 - accuracy: 0.9554 - val_loss: 0.1958 - val_accuracy: 0.9524\n",
      "Epoch 29/50\n",
      "11/11 [==============================] - 0s 16ms/step - loss: 0.1180 - accuracy: 0.9613 - val_loss: 0.2462 - val_accuracy: 0.9048\n",
      "Epoch 30/50\n",
      "11/11 [==============================] - 0s 28ms/step - loss: 0.0912 - accuracy: 0.9673 - val_loss: 0.1987 - val_accuracy: 0.9524\n",
      "Epoch 31/50\n",
      "11/11 [==============================] - 0s 27ms/step - loss: 0.1092 - accuracy: 0.9643 - val_loss: 0.2073 - val_accuracy: 0.9286\n",
      "Epoch 32/50\n",
      "11/11 [==============================] - 0s 24ms/step - loss: 0.0673 - accuracy: 0.9792 - val_loss: 0.2013 - val_accuracy: 0.9286\n",
      "Epoch 33/50\n",
      "11/11 [==============================] - 0s 26ms/step - loss: 0.0616 - accuracy: 0.9762 - val_loss: 0.2229 - val_accuracy: 0.9286\n",
      "Epoch 34/50\n",
      "11/11 [==============================] - 0s 23ms/step - loss: 0.0757 - accuracy: 0.9762 - val_loss: 0.2150 - val_accuracy: 0.9286\n",
      "Epoch 35/50\n",
      "11/11 [==============================] - 0s 30ms/step - loss: 0.0827 - accuracy: 0.9702 - val_loss: 0.1950 - val_accuracy: 0.9286\n",
      "Epoch 36/50\n",
      "11/11 [==============================] - 0s 36ms/step - loss: 0.0697 - accuracy: 0.9821 - val_loss: 0.2317 - val_accuracy: 0.8810\n",
      "Epoch 37/50\n",
      "11/11 [==============================] - 0s 38ms/step - loss: 0.0628 - accuracy: 0.9732 - val_loss: 0.2599 - val_accuracy: 0.9048\n",
      "Epoch 38/50\n",
      "11/11 [==============================] - 0s 25ms/step - loss: 0.0578 - accuracy: 0.9881 - val_loss: 0.1762 - val_accuracy: 0.9524\n",
      "Epoch 39/50\n",
      "11/11 [==============================] - 0s 26ms/step - loss: 0.0782 - accuracy: 0.9792 - val_loss: 0.2512 - val_accuracy: 0.9524\n",
      "Epoch 40/50\n",
      "11/11 [==============================] - 0s 22ms/step - loss: 0.0496 - accuracy: 0.9881 - val_loss: 0.2696 - val_accuracy: 0.9048\n",
      "Epoch 41/50\n",
      "11/11 [==============================] - 0s 15ms/step - loss: 0.0666 - accuracy: 0.9732 - val_loss: 0.2334 - val_accuracy: 0.9286\n",
      "Epoch 42/50\n",
      "11/11 [==============================] - 0s 33ms/step - loss: 0.0967 - accuracy: 0.9494 - val_loss: 0.2097 - val_accuracy: 0.9286\n",
      "Epoch 43/50\n",
      "11/11 [==============================] - 0s 26ms/step - loss: 0.0963 - accuracy: 0.9643 - val_loss: 0.1863 - val_accuracy: 0.9524\n",
      "Epoch 44/50\n",
      "11/11 [==============================] - 0s 23ms/step - loss: 0.0863 - accuracy: 0.9643 - val_loss: 0.2289 - val_accuracy: 0.9286\n",
      "Epoch 45/50\n",
      "11/11 [==============================] - 0s 28ms/step - loss: 0.0741 - accuracy: 0.9673 - val_loss: 0.2348 - val_accuracy: 0.8571\n",
      "Epoch 46/50\n",
      "11/11 [==============================] - 0s 26ms/step - loss: 0.0541 - accuracy: 0.9851 - val_loss: 0.4361 - val_accuracy: 0.9048\n",
      "Epoch 47/50\n",
      "11/11 [==============================] - 0s 16ms/step - loss: 0.0855 - accuracy: 0.9702 - val_loss: 0.2507 - val_accuracy: 0.9048\n",
      "Epoch 48/50\n",
      "11/11 [==============================] - 0s 20ms/step - loss: 0.0433 - accuracy: 0.9851 - val_loss: 0.2190 - val_accuracy: 0.9286\n",
      "Epoch 49/50\n",
      "11/11 [==============================] - 0s 13ms/step - loss: 0.0302 - accuracy: 0.9911 - val_loss: 0.2765 - val_accuracy: 0.9286\n",
      "Epoch 50/50\n",
      "11/11 [==============================] - 0s 24ms/step - loss: 0.0709 - accuracy: 0.9732 - val_loss: 0.2416 - val_accuracy: 0.9048\n"
     ]
    }
   ],
   "source": [
    "model_mod.compile(optimizer = Adam(learning_rate = 0.001), loss = 'sparse_categorical_crossentropy', metrics = ['accuracy'])\n",
    "\n",
    "train_model_mod = model_mod.fit(x_train, y_train, validation_data = (x_val, y_val), epochs = 50)"
   ]
  },
  {
   "cell_type": "markdown",
   "metadata": {
    "id": "0x7JeqleMlTq"
   },
   "source": [
    "Hasilnya, didapatkan akurasi pada training dan validation meningkat daripada model yang sebelum dimodifikasi. Loss untuk training dan validation juga menurun. Berarti, model mempunyai kinerja yang bagus."
   ]
  },
  {
   "cell_type": "markdown",
   "metadata": {
    "id": "cSeCkVjSPcYg"
   },
   "source": [
    "**Menampilkan grafik validation loss dan training loss dari model yang sudah dimodifikasi**"
   ]
  },
  {
   "cell_type": "code",
   "execution_count": null,
   "metadata": {
    "colab": {
     "base_uri": "https://localhost:8080/",
     "height": 472
    },
    "id": "nOmYKRDbhuXW",
    "outputId": "06a876be-7610-4239-878a-05b500c1f9fa"
   },
   "outputs": [
    {
     "data": {
      "image/png": "[encoded data removed]",
      "text/plain": [
       "<Figure size 640x480 with 1 Axes>"
      ]
     },
     "metadata": {},
     "output_type": "display_data"
    }
   ],
   "source": [
    "plt.plot(train_model_mod.history['loss'])\n",
    "plt.plot(train_model_mod.history['val_loss'])\n",
    "plt.title('Model Loss')\n",
    "plt.ylabel('Loss')\n",
    "plt.xlabel('Epoch')\n",
    "plt.legend(['train', 'validation'])\n",
    "plt.show()"
   ]
  },
  {
   "cell_type": "markdown",
   "metadata": {
    "id": "hMeFt4XJRzhZ"
   },
   "source": [
    "Pada grafik yang dihasilkan, dapat ditunjukkan terdapat penurunan loss pada training, tetapi pada validation loss tetap bertahan pada nilai 0.2 dan mengalami sedikit penurunan."
   ]
  },
  {
   "cell_type": "markdown",
   "metadata": {
    "id": "ly_M8h8O45i4"
   },
   "source": [
    "**Bagian e**"
   ]
  },
  {
   "cell_type": "markdown",
   "metadata": {
    "id": "yXPYkwUDSov9"
   },
   "source": [
    "**Mengevaluasi kinerja model pada test set**"
   ]
  },
  {
   "cell_type": "code",
   "execution_count": null,
   "metadata": {
    "colab": {
     "base_uri": "https://localhost:8080/"
    },
    "id": "2zHwEFYNKC1N",
    "outputId": "e3cf5d58-9329-45d5-cfe4-9d9d9c43d321"
   },
   "outputs": [
    {
     "name": "stdout",
     "output_type": "stream",
     "text": [
      "2/2 [==============================] - 0s 8ms/step - loss: 0.2771 - accuracy: 0.9048\n",
      "[0.2770809531211853, 0.9047619104385376]\n"
     ]
    }
   ],
   "source": [
    "eval_model = model.evaluate(x_test, y_test)\n",
    "print(eval_model)"
   ]
  },
  {
   "cell_type": "markdown",
   "metadata": {
    "id": "aNm0g2PtSm1Z"
   },
   "source": [
    "Didapatkan pada testing, loss yang dihasilkan kecil dan untuk accuracy yang dihasilkan cukup bagus."
   ]
  },
  {
   "cell_type": "code",
   "execution_count": null,
   "metadata": {
    "colab": {
     "base_uri": "https://localhost:8080/"
    },
    "id": "9DC4ho52hzKH",
    "outputId": "5a33b391-e03d-4887-bd5f-2fe47d743c28"
   },
   "outputs": [
    {
     "name": "stdout",
     "output_type": "stream",
     "text": [
      "2/2 [==============================] - 0s 9ms/step - loss: 0.1366 - accuracy: 0.9524\n",
      "[0.1366042196750641, 0.9523809552192688]\n"
     ]
    }
   ],
   "source": [
    "eval_model_mod = model_mod.evaluate(x_test, y_test)\n",
    "print(eval_model_mod)"
   ]
  },
  {
   "cell_type": "markdown",
   "metadata": {
    "id": "YK7nX4RNVm4n"
   },
   "source": [
    "Dari model yang sudah dimodifikasi, accuracy pada test set mengalami kenaikan dan loss mengalami penurunan. Hal ini berarti model yang sudah dimodifikasi memiliki kinerja yang lebih baik."
   ]
  },
  {
   "cell_type": "markdown",
   "metadata": {
    "id": "cIu1OrCxV-v1"
   },
   "source": [
    "**Mencari nilai accuracy, precision, recall, dan F1 score**"
   ]
  },
  {
   "cell_type": "code",
   "execution_count": null,
   "metadata": {
    "colab": {
     "base_uri": "https://localhost:8080/"
    },
    "id": "PTwVxId_I7RO",
    "outputId": "4d55b9e8-fe94-43fb-a473-526ef13b9b2e"
   },
   "outputs": [
    {
     "name": "stdout",
     "output_type": "stream",
     "text": [
      "Accuracy: 0.905\n"
     ]
    }
   ],
   "source": [
    "print(f'Accuracy: {eval_model[1] :.3f}')"
   ]
  },
  {
   "cell_type": "code",
   "execution_count": null,
   "metadata": {
    "colab": {
     "base_uri": "https://localhost:8080/"
    },
    "id": "BEMylKuBKl4v",
    "outputId": "00bcd247-27a9-41d6-b92a-9470889810bb"
   },
   "outputs": [
    {
     "name": "stdout",
     "output_type": "stream",
     "text": [
      "2/2 [==============================] - 0s 7ms/step\n",
      "              precision    recall  f1-score   support\n",
      "\n",
      "           0       0.87      0.95      0.91        21\n",
      "           1       0.95      0.86      0.90        21\n",
      "\n",
      "    accuracy                           0.90        42\n",
      "   macro avg       0.91      0.90      0.90        42\n",
      "weighted avg       0.91      0.90      0.90        42\n",
      "\n",
      "\n",
      "Prescision:  0.947\n",
      "Recall: 0.857\n",
      "F1 score: 0.900\n",
      "Accuracy: 0.905\n"
     ]
    }
   ],
   "source": [
    "# Menghitung nilai accuracy, precision, recall, dan F1 score dari model yang belum dimodifikasi\n",
    "\n",
    "from sklearn.metrics import classification_report\n",
    "from sklearn.metrics import precision_score, recall_score, f1_score, accuracy_score\n",
    "\n",
    "y_pred = model.predict(x_test)\n",
    "y_pred = np.argmax(y_pred, axis=1)\n",
    "\n",
    "print(classification_report(y_test, y_pred))\n",
    "print(\"\")\n",
    "print(f\"Prescision:  {precision_score(y_test, y_pred) :.3f}\")\n",
    "print(f\"Recall: {recall_score(y_test, y_pred) :.3f}\")\n",
    "print(f\"F1 score: {f1_score(y_test, y_pred) :.3f}\")\n",
    "print(f\"Accuracy: {accuracy_score(y_test, y_pred) :.3f}\")"
   ]
  },
  {
   "cell_type": "code",
   "execution_count": null,
   "metadata": {
    "colab": {
     "base_uri": "https://localhost:8080/"
    },
    "id": "CzSygU0CiBcv",
    "outputId": "b93f6c3b-e7ca-46f5-a6be-60ba69b778a5"
   },
   "outputs": [
    {
     "name": "stdout",
     "output_type": "stream",
     "text": [
      "Accuracy optimized: 0.952\n"
     ]
    }
   ],
   "source": [
    "print(f'Accuracy optimized: {eval_model_mod[1] :.3f}')"
   ]
  },
  {
   "cell_type": "code",
   "execution_count": null,
   "metadata": {
    "colab": {
     "base_uri": "https://localhost:8080/"
    },
    "id": "ylG8yXq-iaui",
    "outputId": "5f274640-b424-4ebd-c72f-d31d7c77d2cf"
   },
   "outputs": [
    {
     "name": "stdout",
     "output_type": "stream",
     "text": [
      "2/2 [==============================] - 0s 7ms/step\n",
      "              precision    recall  f1-score   support\n",
      "\n",
      "           0       0.95      0.95      0.95        21\n",
      "           1       0.95      0.95      0.95        21\n",
      "\n",
      "    accuracy                           0.95        42\n",
      "   macro avg       0.95      0.95      0.95        42\n",
      "weighted avg       0.95      0.95      0.95        42\n",
      "\n",
      "\n",
      "Prescision:  0.952\n",
      "Recall: 0.952\n",
      "F1 score: 0.952\n",
      "Accuracy: 0.952\n"
     ]
    }
   ],
   "source": [
    "# Menghitung nilai accuracy, precision, recall, dan F1 score dari model yang sudah dimodifikasi\n",
    "\n",
    "from sklearn.metrics import classification_report\n",
    "from sklearn.metrics import precision_score, recall_score, f1_score, accuracy_score\n",
    "\n",
    "y_pred = model_mod.predict(x_test)\n",
    "y_pred = np.argmax(y_pred, axis=1)\n",
    "\n",
    "print(classification_report(y_test, y_pred))\n",
    "print(\"\")\n",
    "print(f\"Prescision:  {precision_score(y_test, y_pred) :.3f}\")\n",
    "print(f\"Recall: {recall_score(y_test, y_pred) :.3f}\")\n",
    "print(f\"F1 score: {f1_score(y_test, y_pred) :.3f}\")\n",
    "print(f\"Accuracy: {accuracy_score(y_test, y_pred) :.3f}\")"
   ]
  },
  {
   "cell_type": "code",
   "execution_count": null,
   "metadata": {
    "colab": {
     "base_uri": "https://localhost:8080/"
    },
    "id": "AaV_2WjNIbcw",
    "outputId": "e6781784-0e02-4f15-a25e-b895b3bbde6e"
   },
   "outputs": [
    {
     "name": "stdout",
     "output_type": "stream",
     "text": [
      "tf.Tensor([1 2 3], shape=(3,), dtype=int32)\n"
     ]
    }
   ],
   "source": [
    "import tensorflow as tf\n",
    "\n",
    "x = tf.constant([1.5, 2.7, 3.8], dtype=tf.float32)\n",
    "x_casted = tf.cast(x, tf.int32)\n",
    "\n",
    "print(x_casted)\n"
   ]
  },
  {
   "cell_type": "markdown",
   "metadata": {
    "id": "XX754bYaWtGO"
   },
   "source": [
    "Pada model yang sudah dimodifikasi, nilai accuracy, precision, recall, dan F1-score yang dihasilkan jauh lebih baik dibandingkan dengan model yang sebelum dimodifikasi. Karena hasil yang didapatkan baik, dapat ditunjukkan bahwa model yang setelah dimodifikasi memiliki performa yang lebih baik."
   ]
  }
 ],
 "metadata": {
  "colab": {
   "provenance": []
  },
  "kernelspec": {
   "display_name": "Python 3 (ipykernel)",
   "language": "python",
   "name": "python3"
  },
  "language_info": {
   "codemirror_mode": {
    "name": "ipython",
    "version": 3
   },
   "file_extension": ".py",
   "mimetype": "text/x-python",
   "name": "python",
   "nbconvert_exporter": "python",
   "pygments_lexer": "ipython3",
   "version": "3.9.7"
  }
 },
 "nbformat": 4,
 "nbformat_minor": 1
}
